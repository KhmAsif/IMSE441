{
  "nbformat": 4,
  "nbformat_minor": 0,
  "metadata": {
    "colab": {
      "provenance": [],
      "authorship_tag": "ABX9TyM8GVPA+EwOmyJZrLbo4Rd5",
      "include_colab_link": true
    },
    "kernelspec": {
      "name": "python3",
      "display_name": "Python 3"
    },
    "language_info": {
      "name": "python"
    }
  },
  "cells": [
    {
      "cell_type": "markdown",
      "metadata": {
        "id": "view-in-github",
        "colab_type": "text"
      },
      "source": [
        "<a href=\"https://colab.research.google.com/github/KhmAsif/IMSE441/blob/main/Lab_5(Exponential_and_Weibull_Distribution).ipynb\" target=\"_parent\"><img src=\"https://colab.research.google.com/assets/colab-badge.svg\" alt=\"Open In Colab\"/></a>"
      ]
    },
    {
      "cell_type": "code",
      "execution_count": 2,
      "metadata": {
        "id": "jaUFaGoC2iGy"
      },
      "outputs": [],
      "source": [
        "import numpy as np\n",
        "import matplotlib.pyplot as plt\n",
        "from scipy.stats import expon"
      ]
    },
    {
      "cell_type": "code",
      "source": [
        "#Generating exponentially distributed data with lambda=20 and sample size=40\n",
        "#In python scipy package default value of lambda=scale=1, so to transform, scale = 1/lambda\n",
        "x=expon.rvs(scale=1/20,size=40)"
      ],
      "metadata": {
        "id": "FTakJVYa25pb"
      },
      "execution_count": 28,
      "outputs": []
    },
    {
      "cell_type": "code",
      "source": [
        "y=expon.rvs(scale=1/10,size=100)\n",
        "y"
      ],
      "metadata": {
        "colab": {
          "base_uri": "https://localhost:8080/"
        },
        "id": "vcuJt9yy3Oim",
        "outputId": "550a0342-8ad8-403f-d5de-7f087c3bb17d"
      },
      "execution_count": 10,
      "outputs": [
        {
          "output_type": "execute_result",
          "data": {
            "text/plain": [
              "array([6.24784091e-02, 1.13539097e-01, 2.68537267e-02, 2.24494782e-01,\n",
              "       2.34399831e-01, 1.23716951e-01, 1.45481640e-04, 1.00618365e-02,\n",
              "       1.11894492e-01, 9.44122263e-02, 3.07808193e-01, 6.31273887e-02,\n",
              "       2.58465997e-01, 2.39716607e-02, 1.12208813e-01, 7.53251948e-02,\n",
              "       1.49061526e-01, 9.62050308e-02, 2.01420705e-01, 1.84708385e-01,\n",
              "       2.95598175e-02, 6.27279994e-02, 4.01210238e-02, 4.33285328e-02,\n",
              "       2.20479260e-03, 1.82516175e-02, 1.26236068e-01, 1.20395785e-02,\n",
              "       8.95673670e-02, 7.11132470e-03, 8.32187624e-02, 1.58919891e-01,\n",
              "       2.87300411e-01, 4.98187652e-02, 1.04535857e-01, 2.24816996e-01,\n",
              "       4.81547266e-02, 9.13180288e-02, 1.06674535e-01, 1.94252647e-01,\n",
              "       4.83188254e-02, 3.81744992e-02, 4.39108520e-02, 7.62500974e-02,\n",
              "       1.17771566e-01, 1.98801452e-01, 3.88159403e-02, 6.64564425e-02,\n",
              "       3.95925218e-02, 1.10230202e-02, 2.20888795e-02, 1.27537767e-01,\n",
              "       1.71259235e-03, 5.71753408e-02, 1.53170847e-01, 1.01950392e-01,\n",
              "       2.03047525e-01, 4.17753823e-02, 9.67760221e-02, 3.83351414e-02,\n",
              "       3.63833597e-02, 8.94671304e-03, 2.22843699e-01, 9.57060972e-02,\n",
              "       6.17815221e-02, 2.44040673e-01, 4.79012450e-02, 3.27001052e-02,\n",
              "       2.27712383e-01, 2.74153154e-01, 1.03354284e-01, 1.51626800e-02,\n",
              "       1.01598104e-02, 2.12657352e-03, 1.44181470e-01, 1.58482390e-03,\n",
              "       1.55222162e-02, 2.29846955e-01, 1.75731177e-02, 2.11456182e-03,\n",
              "       1.04706893e-01, 3.08491346e-01, 4.53115901e-02, 4.14400306e-02,\n",
              "       2.94668840e-03, 4.66161369e-02, 1.32670380e-01, 9.45937621e-03,\n",
              "       2.00222216e-02, 1.31948280e-01, 1.63000496e-01, 1.78091970e-01,\n",
              "       2.89784706e-02, 9.05693801e-02, 2.75616019e-02, 2.92597123e-02,\n",
              "       6.51121441e-02, 1.77011374e-01, 2.22813073e-01, 9.30026380e-02])"
            ]
          },
          "metadata": {},
          "execution_count": 10
        }
      ]
    },
    {
      "cell_type": "code",
      "source": [
        "#Mean, Variance, Deviation for lambda=20\n",
        "m, v, s = expon.mean(scale=1/20), expon.var(scale=1/20), expon.std(scale=1/20)\n",
        "print('mean = ', m, 'Variance = ', v, 'Standard Deviation =', s)"
      ],
      "metadata": {
        "colab": {
          "base_uri": "https://localhost:8080/"
        },
        "id": "Trw-5g__Pb30",
        "outputId": "e1d5a348-f01b-4da6-8be5-f149b5af8336"
      },
      "execution_count": 31,
      "outputs": [
        {
          "output_type": "stream",
          "name": "stdout",
          "text": [
            "mean =  0.05 Variance =  0.0025000000000000005 Standard Deviation = 0.05\n"
          ]
        }
      ]
    },
    {
      "cell_type": "code",
      "source": [
        "#Probability of X<=25\n",
        "#Expon.cdf(x,scale=1/lambda)\n",
        "expon.cdf(x=.1,scale=1/25)"
      ],
      "metadata": {
        "colab": {
          "base_uri": "https://localhost:8080/"
        },
        "id": "_ZFaX-i63ZoK",
        "outputId": "b11ff9af-d590-43a8-ad99-692ee2730ff0"
      },
      "execution_count": 23,
      "outputs": [
        {
          "output_type": "execute_result",
          "data": {
            "text/plain": [
              "0.9179150013761012"
            ]
          },
          "metadata": {},
          "execution_count": 23
        }
      ]
    },
    {
      "cell_type": "code",
      "source": [
        "p25=1-expon.cdf(x=.1,scale=1/25)\n",
        "p25"
      ],
      "metadata": {
        "colab": {
          "base_uri": "https://localhost:8080/"
        },
        "id": "x-_3M9l23qsb",
        "outputId": "fa983b8d-e8d2-4a80-9ff8-8f6ecd7775c1"
      },
      "execution_count": 27,
      "outputs": [
        {
          "output_type": "execute_result",
          "data": {
            "text/plain": [
              "0.08208499862389884"
            ]
          },
          "metadata": {},
          "execution_count": 27
        }
      ]
    },
    {
      "cell_type": "code",
      "source": [
        "#Plotting exponential distribution\n",
        "plt.hist(y,density=True, color='g')\n",
        "plt.show()"
      ],
      "metadata": {
        "colab": {
          "base_uri": "https://localhost:8080/",
          "height": 265
        },
        "id": "9xKwBVgy4NMp",
        "outputId": "80494d95-d923-4a32-c5d1-bc9396897d8b"
      },
      "execution_count": 32,
      "outputs": [
        {
          "output_type": "display_data",
          "data": {
            "text/plain": [
              "<Figure size 432x288 with 1 Axes>"
            ],
            "image/png": "[encoded data removed]"
          },
          "metadata": {
            "needs_background": "light"
          }
        }
      ]
    },
    {
      "cell_type": "code",
      "source": [
        "from scipy.stats.distributions import weibull_min"
      ],
      "metadata": {
        "id": "19maa4MR-JQb"
      },
      "execution_count": 34,
      "outputs": []
    },
    {
      "cell_type": "code",
      "source": [
        "#Finding the probalibty of bearing lifetime more that 6000 hours, shape=2, scale=5000\n",
        "#weibull_min=(x,c=shape=beta,scale=delta=1) scale default value is 1 for python, so divide 'x' by the given scale to transform the values to python form\n",
        "P6000=1-weibull_min.cdf(1.2,c=2,scale=1)\n",
        "P6000"
      ],
      "metadata": {
        "colab": {
          "base_uri": "https://localhost:8080/"
        },
        "id": "ZJyE7wfD-3CE",
        "outputId": "e14e2a71-dabd-4662-d907-6afc9b4ad20f"
      },
      "execution_count": 35,
      "outputs": [
        {
          "output_type": "execute_result",
          "data": {
            "text/plain": [
              "0.2369277586821218"
            ]
          },
          "metadata": {},
          "execution_count": 35
        }
      ]
    },
    {
      "cell_type": "code",
      "source": [
        "p5000=weibull_min.cdf(1,c=2)\n",
        "p5000"
      ],
      "metadata": {
        "colab": {
          "base_uri": "https://localhost:8080/"
        },
        "id": "Hnv1_ymw5N4N",
        "outputId": "cf140cc7-cbc9-4a79-8f7a-5aabd58339a8"
      },
      "execution_count": 36,
      "outputs": [
        {
          "output_type": "execute_result",
          "data": {
            "text/plain": [
              "0.6321205588285577"
            ]
          },
          "metadata": {},
          "execution_count": 36
        }
      ]
    },
    {
      "cell_type": "code",
      "source": [
        "#Finding the probalibty of bearing lifetime more that 3000 hours, shape=2, scale=5000\n",
        "P3000=1-weibull_min.cdf(.6,c=2)\n",
        "P3000"
      ],
      "metadata": {
        "colab": {
          "base_uri": "https://localhost:8080/"
        },
        "id": "iwKY48N0R__r",
        "outputId": "8ea767f8-4daa-41f4-cc39-f1cca39f5cd1"
      },
      "execution_count": 37,
      "outputs": [
        {
          "output_type": "execute_result",
          "data": {
            "text/plain": [
              "0.697676326071031"
            ]
          },
          "metadata": {},
          "execution_count": 37
        }
      ]
    },
    {
      "cell_type": "code",
      "source": [
        "#Finding Relative Weibull probability\n",
        "p=P6000/P3000\n",
        "p"
      ],
      "metadata": {
        "colab": {
          "base_uri": "https://localhost:8080/"
        },
        "id": "BskNaiZ9aof3",
        "outputId": "f6e1c339-320b-4a4f-b84c-9cc44b75257a"
      },
      "execution_count": 38,
      "outputs": [
        {
          "output_type": "execute_result",
          "data": {
            "text/plain": [
              "0.3395955256449392"
            ]
          },
          "metadata": {},
          "execution_count": 38
        }
      ]
    },
    {
      "cell_type": "code",
      "source": [
        "#Finding mean, Variance and Standard Deviation\n",
        "#weibull_min.mean(c=shape parameter, scale= scale parameter)\n",
        "m= weibull_min.mean(c=2,scale=5000)\n",
        "m"
      ],
      "metadata": {
        "colab": {
          "base_uri": "https://localhost:8080/"
        },
        "id": "AOAkjDGyXw1B",
        "outputId": "4b914f72-11e6-435e-b11b-9efbae2f0cef"
      },
      "execution_count": 41,
      "outputs": [
        {
          "output_type": "execute_result",
          "data": {
            "text/plain": [
              "4431.134627263789"
            ]
          },
          "metadata": {},
          "execution_count": 41
        }
      ]
    },
    {
      "cell_type": "code",
      "source": [
        "v= weibull_min.var(c=2,scale=3)\n",
        "v"
      ],
      "metadata": {
        "colab": {
          "base_uri": "https://localhost:8080/"
        },
        "id": "0gK33YWTYvHS",
        "outputId": "a5ae2a7c-9bc0-4ef5-8577-d9c5873f4943"
      },
      "execution_count": 42,
      "outputs": [
        {
          "output_type": "execute_result",
          "data": {
            "text/plain": [
              "1.9314165294229664"
            ]
          },
          "metadata": {},
          "execution_count": 42
        }
      ]
    },
    {
      "cell_type": "code",
      "source": [
        "s=weibull_min.std(c=2,scale=3)\n",
        "s"
      ],
      "metadata": {
        "colab": {
          "base_uri": "https://localhost:8080/"
        },
        "id": "ShGo9YCrY7Hq",
        "outputId": "c16c556a-333b-46a5-d0ec-06cf11209506"
      },
      "execution_count": 43,
      "outputs": [
        {
          "output_type": "execute_result",
          "data": {
            "text/plain": [
              "1.3897541255283132"
            ]
          },
          "metadata": {},
          "execution_count": 43
        }
      ]
    }
  ]
}