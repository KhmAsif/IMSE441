{
  "nbformat": 4,
  "nbformat_minor": 0,
  "metadata": {
    "colab": {
      "provenance": [],
      "authorship_tag": "ABX9TyOc2TMO3wOtRmGXKvkHIGOe",
      "include_colab_link": true
    },
    "kernelspec": {
      "name": "python3",
      "display_name": "Python 3"
    },
    "language_info": {
      "name": "python"
    }
  },
  "cells": [
    {
      "cell_type": "markdown",
      "metadata": {
        "id": "view-in-github",
        "colab_type": "text"
      },
      "source": [
        "<a href=\"https://colab.research.google.com/github/KhmAsif/IMSE441/blob/main/Lab_5(Exponential_and_Weibull_Distribution).ipynb\" target=\"_parent\"><img src=\"https://colab.research.google.com/assets/colab-badge.svg\" alt=\"Open In Colab\"/></a>"
      ]
    },
    {
      "cell_type": "code",
      "execution_count": 1,
      "metadata": {
        "id": "jaUFaGoC2iGy"
      },
      "outputs": [],
      "source": [
        "import numpy as np\n",
        "import matplotlib.pyplot as plt\n",
        "from scipy.stats import expon"
      ]
    },
    {
      "cell_type": "code",
      "source": [
        "#Generating exponentially distributed data with lamda=40 and sample size=20\n",
        "x=expon.rvs(scale=20,size=40)"
      ],
      "metadata": {
        "id": "FTakJVYa25pb"
      },
      "execution_count": 5,
      "outputs": []
    },
    {
      "cell_type": "code",
      "source": [
        "y=expon.rvs(scale=10,size=100)\n",
        "y"
      ],
      "metadata": {
        "colab": {
          "base_uri": "https://localhost:8080/"
        },
        "id": "vcuJt9yy3Oim",
        "outputId": "681d42d6-2cd7-4dc1-fc23-f45397272829"
      },
      "execution_count": 2,
      "outputs": [
        {
          "output_type": "execute_result",
          "data": {
            "text/plain": [
              "array([ 1.12758383, 26.59800355,  6.16008261,  2.3193429 ,  1.49615436,\n",
              "        3.63032187,  5.57905841, 20.54648215,  3.71144768, 12.67798737,\n",
              "        1.57988033,  1.81941144,  0.13184198,  9.30826211,  1.94037488,\n",
              "        4.12803513, 14.92194335,  6.22722357,  0.08754566,  8.23276401,\n",
              "        6.33710323,  1.9030646 , 12.51081328, 11.96077571, 19.42891538,\n",
              "        2.32440042,  5.77580325,  6.42366847,  7.74693966,  6.72360864,\n",
              "       34.79906456, 26.89061563,  0.63802215,  2.44485097, 16.1503127 ,\n",
              "       46.77124347,  1.12728357, 18.20732256, 42.7886635 , 11.47846654,\n",
              "        4.29559012,  1.32096405,  5.80308886,  1.49561337,  5.01849146,\n",
              "       20.5204575 ,  4.22456397, 13.59984171, 12.01227534, 10.24269776,\n",
              "       23.43755611,  4.24278727,  9.54996006,  2.06833183, 14.47890937,\n",
              "        5.10609149,  7.81518107, 16.5939648 ,  4.12455648, 19.81676944,\n",
              "        1.44657482, 19.68371207,  4.45156867, 19.12822564, 29.18713373,\n",
              "        2.73377021,  2.65629575, 12.90248081, 22.31402636, 20.93323265,\n",
              "        3.21679714,  2.47329187, 22.45923208,  4.24746033,  6.12682351,\n",
              "        6.08646054, 18.86911437,  2.48202945, 10.99137226,  2.87154713,\n",
              "        4.35606913,  2.96106535,  5.28405794,  4.56791717,  9.37065246,\n",
              "       11.48492557, 10.92690123, 10.1833692 ,  5.0189161 ,  1.33051674,\n",
              "        5.33852086,  6.87591404,  9.25185457,  3.97166623, 18.84068427,\n",
              "        8.80215374,  4.57794633,  0.69247108,  6.93380521, 10.59762879])"
            ]
          },
          "metadata": {},
          "execution_count": 2
        }
      ]
    },
    {
      "cell_type": "code",
      "source": [
        "#Probability of X<=25\n",
        "expon.cdf(x=25,scale=20)"
      ],
      "metadata": {
        "colab": {
          "base_uri": "https://localhost:8080/"
        },
        "id": "_ZFaX-i63ZoK",
        "outputId": "575111b2-727a-4885-a506-6b48f51347e5"
      },
      "execution_count": null,
      "outputs": [
        {
          "output_type": "execute_result",
          "data": {
            "text/plain": [
              "0.7134952031398099"
            ]
          },
          "metadata": {},
          "execution_count": 143
        }
      ]
    },
    {
      "cell_type": "code",
      "source": [
        "p25=1-expon.cdf(x=25,scale=20)\n",
        "p25"
      ],
      "metadata": {
        "colab": {
          "base_uri": "https://localhost:8080/"
        },
        "id": "x-_3M9l23qsb",
        "outputId": "80319e1c-fc49-4f4d-817b-198bf6c6595f"
      },
      "execution_count": 3,
      "outputs": [
        {
          "output_type": "execute_result",
          "data": {
            "text/plain": [
              "0.28650479686019015"
            ]
          },
          "metadata": {},
          "execution_count": 3
        }
      ]
    },
    {
      "cell_type": "code",
      "source": [
        "#Plotting exponential distribution\n",
        "plt.hist(y,density=True, color='g')\n",
        "plt.show()"
      ],
      "metadata": {
        "colab": {
          "base_uri": "https://localhost:8080/",
          "height": 265
        },
        "id": "9xKwBVgy4NMp",
        "outputId": "5fdf5265-d17b-4f43-93dc-7a4b5af907ff"
      },
      "execution_count": 8,
      "outputs": [
        {
          "output_type": "display_data",
          "data": {
            "text/plain": [
              "<Figure size 432x288 with 1 Axes>"
            ],
            "image/png": "[encoded data removed]"
          },
          "metadata": {
            "needs_background": "light"
          }
        }
      ]
    },
    {
      "cell_type": "code",
      "source": [
        "from scipy.stats.distributions import weibull_min"
      ],
      "metadata": {
        "id": "19maa4MR-JQb"
      },
      "execution_count": 9,
      "outputs": []
    },
    {
      "cell_type": "code",
      "source": [
        "#Finding the probalibty of bearing lifetime more that 6000 hours, shape=2, scale=5000\n",
        "#weibull_min=(x,c=shape,scale=1)\n",
        "P6000=1-weibull_min.cdf(1.2,c=2)\n",
        "P6000"
      ],
      "metadata": {
        "colab": {
          "base_uri": "https://localhost:8080/"
        },
        "id": "ZJyE7wfD-3CE",
        "outputId": "29f44683-3523-438c-91a6-82bd2a55e3df"
      },
      "execution_count": null,
      "outputs": [
        {
          "output_type": "execute_result",
          "data": {
            "text/plain": [
              "0.2369277586821218"
            ]
          },
          "metadata": {},
          "execution_count": 154
        }
      ]
    },
    {
      "cell_type": "code",
      "source": [
        "p5000=weibull_min.cdf(1,c=2)\n",
        "p5000"
      ],
      "metadata": {
        "colab": {
          "base_uri": "https://localhost:8080/"
        },
        "id": "Hnv1_ymw5N4N",
        "outputId": "2c54a3c3-d729-42a1-ff6d-efe2b3b8ea1a"
      },
      "execution_count": 10,
      "outputs": [
        {
          "output_type": "execute_result",
          "data": {
            "text/plain": [
              "0.6321205588285577"
            ]
          },
          "metadata": {},
          "execution_count": 10
        }
      ]
    },
    {
      "cell_type": "code",
      "source": [
        "#Finding the probalibty of bearing lifetime more that 3000 hours, shape=2, scale=5000\n",
        "P3000=1-weibull_min.cdf(.6,c=2)\n",
        "P3000"
      ],
      "metadata": {
        "colab": {
          "base_uri": "https://localhost:8080/"
        },
        "id": "iwKY48N0R__r",
        "outputId": "250c5a3c-e874-4a0d-9158-df8bf5f82212"
      },
      "execution_count": 11,
      "outputs": [
        {
          "output_type": "execute_result",
          "data": {
            "text/plain": [
              "0.697676326071031"
            ]
          },
          "metadata": {},
          "execution_count": 11
        }
      ]
    },
    {
      "cell_type": "code",
      "source": [
        "#Finding Relative Weibull probability\n",
        "p=P6000/P3000\n",
        "p"
      ],
      "metadata": {
        "colab": {
          "base_uri": "https://localhost:8080/"
        },
        "id": "BskNaiZ9aof3",
        "outputId": "d31f4ec7-f5f8-4b34-efb1-8198b3279591"
      },
      "execution_count": null,
      "outputs": [
        {
          "output_type": "execute_result",
          "data": {
            "text/plain": [
              "0.3395955256449392"
            ]
          },
          "metadata": {},
          "execution_count": 156
        }
      ]
    },
    {
      "cell_type": "code",
      "source": [
        "#Finding mean, Variance and Standard Deviation\n",
        "m= weibull_min.mean(c=2,scale=5000)\n",
        "m"
      ],
      "metadata": {
        "colab": {
          "base_uri": "https://localhost:8080/"
        },
        "id": "AOAkjDGyXw1B",
        "outputId": "42d9415b-1fd9-4edd-e675-d50d833d9277"
      },
      "execution_count": 12,
      "outputs": [
        {
          "output_type": "execute_result",
          "data": {
            "text/plain": [
              "4431.134627263789"
            ]
          },
          "metadata": {},
          "execution_count": 12
        }
      ]
    },
    {
      "cell_type": "code",
      "source": [
        "v= weibull_min.var(c=2,scale=3)\n",
        "v"
      ],
      "metadata": {
        "colab": {
          "base_uri": "https://localhost:8080/"
        },
        "id": "0gK33YWTYvHS",
        "outputId": "8fb70adc-7724-4827-d6c1-f8df903a41cd"
      },
      "execution_count": null,
      "outputs": [
        {
          "output_type": "execute_result",
          "data": {
            "text/plain": [
              "1.9314165294229664"
            ]
          },
          "metadata": {},
          "execution_count": 150
        }
      ]
    },
    {
      "cell_type": "code",
      "source": [
        "s=weibull_min.std(c=2,scale=3)\n",
        "s"
      ],
      "metadata": {
        "colab": {
          "base_uri": "https://localhost:8080/"
        },
        "id": "ShGo9YCrY7Hq",
        "outputId": "d8078950-ea56-4d4b-f708-81a0b479089c"
      },
      "execution_count": null,
      "outputs": [
        {
          "output_type": "execute_result",
          "data": {
            "text/plain": [
              "1.3897541255283132"
            ]
          },
          "metadata": {},
          "execution_count": 151
        }
      ]
    }
  ]
}