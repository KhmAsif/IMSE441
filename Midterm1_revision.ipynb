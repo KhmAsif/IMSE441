{
  "nbformat": 4,
  "nbformat_minor": 0,
  "metadata": {
    "colab": {
      "provenance": [],
      "authorship_tag": "ABX9TyM+s0m1YOU6KbI3rBgcDx2A",
      "include_colab_link": true
    },
    "kernelspec": {
      "name": "python3",
      "display_name": "Python 3"
    },
    "language_info": {
      "name": "python"
    }
  },
  "cells": [
    {
      "cell_type": "markdown",
      "metadata": {
        "id": "view-in-github",
        "colab_type": "text"
      },
      "source": [
        "<a href=\"https://colab.research.google.com/github/KhmAsif/IMSE441/blob/main/Midterm1_revision.ipynb\" target=\"_parent\"><img src=\"https://colab.research.google.com/assets/colab-badge.svg\" alt=\"Open In Colab\"/></a>"
      ]
    },
    {
      "cell_type": "code",
      "execution_count": 153,
      "metadata": {
        "id": "NMxARAyHZtyZ"
      },
      "outputs": [],
      "source": [
        "#basic\n",
        "import pandas as pd\n",
        "import numpy as np\n",
        "\n",
        "#statistic \n",
        "import scipy as scipy\n",
        "from scipy import stats\n",
        "import matplotlib.pyplot as plt"
      ]
    },
    {
      "cell_type": "code",
      "source": [
        "#import dataset\n",
        "url = \"https://raw.githubusercontent.com/KhmAsif/IMSE441/main/Coffee.csv\"\n",
        "df = pd.read_csv(url)\n",
        "df.head()"
      ],
      "metadata": {
        "colab": {
          "base_uri": "https://localhost:8080/",
          "height": 354
        },
        "id": "bsmwu-ZlePsU",
        "outputId": "436a1da1-5c73-4893-881a-7b1d2d57c762"
      },
      "execution_count": 155,
      "outputs": [
        {
          "output_type": "execute_result",
          "data": {
            "text/plain": [
              "   Area Code   Date   Market   Market Size            Product Product Line  \\\n",
              "0        719  40909  Central  Major Market           Amaretto        Beans   \n",
              "1        970  40909  Central  Major Market          Colombian        Beans   \n",
              "2        970  40909  Central  Major Market  Decaf Irish Cream        Beans   \n",
              "3        303  40909  Central  Major Market          Green Tea       Leaves   \n",
              "4        303  40909  Central  Major Market        Caffe Mocha        Beans   \n",
              "\n",
              "  Product Type     State     Type  Budget COGS  Budget Margin  Budget Profit  \\\n",
              "0       Coffee  Colorado  Regular           90            130            100   \n",
              "1       Coffee  Colorado  Regular           80            110             80   \n",
              "2       Coffee  Colorado    Decaf          100            140            110   \n",
              "3          Tea  Colorado  Regular           30             50             30   \n",
              "4     Espresso  Colorado  Regular           60             90             70   \n",
              "\n",
              "   Budget Sales  COGS  Inventory  Margin  Marketing  Profit  Sales  \\\n",
              "0           220    89        777     130         24      94    219   \n",
              "1           190    83        623     107         27      68    190   \n",
              "2           240    95        821     139         26     101    234   \n",
              "3            80    44        623      56         14      30    100   \n",
              "4           150    54        456      80         15      54    134   \n",
              "\n",
              "   Total Expenses  \n",
              "0              36  \n",
              "1              39  \n",
              "2              38  \n",
              "3              26  \n",
              "4              26  "
            ],
            "text/html": [
              "\n",
              "  <div id=\"df-6fed6f0a-82fe-4b52-8109-f85b890ad632\">\n",
              "    <div class=\"colab-df-container\">\n",
              "      <div>\n",
              "<style scoped>\n",
              "    .dataframe tbody tr th:only-of-type {\n",
              "        vertical-align: middle;\n",
              "    }\n",
              "\n",
              "    .dataframe tbody tr th {\n",
              "        vertical-align: top;\n",
              "    }\n",
              "\n",
              "    .dataframe thead th {\n",
              "        text-align: right;\n",
              "    }\n",
              "</style>\n",
              "<table border=\"1\" class=\"dataframe\">\n",
              "  <thead>\n",
              "    <tr style=\"text-align: right;\">\n",
              "      <th></th>\n",
              "      <th>Area Code</th>\n",
              "      <th>Date</th>\n",
              "      <th>Market</th>\n",
              "      <th>Market Size</th>\n",
              "      <th>Product</th>\n",
              "      <th>Product Line</th>\n",
              "      <th>Product Type</th>\n",
              "      <th>State</th>\n",
              "      <th>Type</th>\n",
              "      <th>Budget COGS</th>\n",
              "      <th>Budget Margin</th>\n",
              "      <th>Budget Profit</th>\n",
              "      <th>Budget Sales</th>\n",
              "      <th>COGS</th>\n",
              "      <th>Inventory</th>\n",
              "      <th>Margin</th>\n",
              "      <th>Marketing</th>\n",
              "      <th>Profit</th>\n",
              "      <th>Sales</th>\n",
              "      <th>Total Expenses</th>\n",
              "    </tr>\n",
              "  </thead>\n",
              "  <tbody>\n",
              "    <tr>\n",
              "      <th>0</th>\n",
              "      <td>719</td>\n",
              "      <td>40909</td>\n",
              "      <td>Central</td>\n",
              "      <td>Major Market</td>\n",
              "      <td>Amaretto</td>\n",
              "      <td>Beans</td>\n",
              "      <td>Coffee</td>\n",
              "      <td>Colorado</td>\n",
              "      <td>Regular</td>\n",
              "      <td>90</td>\n",
              "      <td>130</td>\n",
              "      <td>100</td>\n",
              "      <td>220</td>\n",
              "      <td>89</td>\n",
              "      <td>777</td>\n",
              "      <td>130</td>\n",
              "      <td>24</td>\n",
              "      <td>94</td>\n",
              "      <td>219</td>\n",
              "      <td>36</td>\n",
              "    </tr>\n",
              "    <tr>\n",
              "      <th>1</th>\n",
              "      <td>970</td>\n",
              "      <td>40909</td>\n",
              "      <td>Central</td>\n",
              "      <td>Major Market</td>\n",
              "      <td>Colombian</td>\n",
              "      <td>Beans</td>\n",
              "      <td>Coffee</td>\n",
              "      <td>Colorado</td>\n",
              "      <td>Regular</td>\n",
              "      <td>80</td>\n",
              "      <td>110</td>\n",
              "      <td>80</td>\n",
              "      <td>190</td>\n",
              "      <td>83</td>\n",
              "      <td>623</td>\n",
              "      <td>107</td>\n",
              "      <td>27</td>\n",
              "      <td>68</td>\n",
              "      <td>190</td>\n",
              "      <td>39</td>\n",
              "    </tr>\n",
              "    <tr>\n",
              "      <th>2</th>\n",
              "      <td>970</td>\n",
              "      <td>40909</td>\n",
              "      <td>Central</td>\n",
              "      <td>Major Market</td>\n",
              "      <td>Decaf Irish Cream</td>\n",
              "      <td>Beans</td>\n",
              "      <td>Coffee</td>\n",
              "      <td>Colorado</td>\n",
              "      <td>Decaf</td>\n",
              "      <td>100</td>\n",
              "      <td>140</td>\n",
              "      <td>110</td>\n",
              "      <td>240</td>\n",
              "      <td>95</td>\n",
              "      <td>821</td>\n",
              "      <td>139</td>\n",
              "      <td>26</td>\n",
              "      <td>101</td>\n",
              "      <td>234</td>\n",
              "      <td>38</td>\n",
              "    </tr>\n",
              "    <tr>\n",
              "      <th>3</th>\n",
              "      <td>303</td>\n",
              "      <td>40909</td>\n",
              "      <td>Central</td>\n",
              "      <td>Major Market</td>\n",
              "      <td>Green Tea</td>\n",
              "      <td>Leaves</td>\n",
              "      <td>Tea</td>\n",
              "      <td>Colorado</td>\n",
              "      <td>Regular</td>\n",
              "      <td>30</td>\n",
              "      <td>50</td>\n",
              "      <td>30</td>\n",
              "      <td>80</td>\n",
              "      <td>44</td>\n",
              "      <td>623</td>\n",
              "      <td>56</td>\n",
              "      <td>14</td>\n",
              "      <td>30</td>\n",
              "      <td>100</td>\n",
              "      <td>26</td>\n",
              "    </tr>\n",
              "    <tr>\n",
              "      <th>4</th>\n",
              "      <td>303</td>\n",
              "      <td>40909</td>\n",
              "      <td>Central</td>\n",
              "      <td>Major Market</td>\n",
              "      <td>Caffe Mocha</td>\n",
              "      <td>Beans</td>\n",
              "      <td>Espresso</td>\n",
              "      <td>Colorado</td>\n",
              "      <td>Regular</td>\n",
              "      <td>60</td>\n",
              "      <td>90</td>\n",
              "      <td>70</td>\n",
              "      <td>150</td>\n",
              "      <td>54</td>\n",
              "      <td>456</td>\n",
              "      <td>80</td>\n",
              "      <td>15</td>\n",
              "      <td>54</td>\n",
              "      <td>134</td>\n",
              "      <td>26</td>\n",
              "    </tr>\n",
              "  </tbody>\n",
              "</table>\n",
              "</div>\n",
              "      <button class=\"colab-df-convert\" onclick=\"convertToInteractive('df-6fed6f0a-82fe-4b52-8109-f85b890ad632')\"\n",
              "              title=\"Convert this dataframe to an interactive table.\"\n",
              "              style=\"display:none;\">\n",
              "        \n",
              "  <svg xmlns=\"http://www.w3.org/2000/svg\" height=\"24px\"viewBox=\"0 0 24 24\"\n",
              "       width=\"24px\">\n",
              "    <path d=\"M0 0h24v24H0V0z\" fill=\"none\"/>\n",
              "    <path d=\"M18.56 5.44l.94 2.06.94-2.06 2.06-.94-2.06-.94-.94-2.06-.94 2.06-2.06.94zm-11 1L8.5 8.5l.94-2.06 2.06-.94-2.06-.94L8.5 2.5l-.94 2.06-2.06.94zm10 10l.94 2.06.94-2.06 2.06-.94-2.06-.94-.94-2.06-.94 2.06-2.06.94z\"/><path d=\"M17.41 7.96l-1.37-1.37c-.4-.4-.92-.59-1.43-.59-.52 0-1.04.2-1.43.59L10.3 9.45l-7.72 7.72c-.78.78-.78 2.05 0 2.83L4 21.41c.39.39.9.59 1.41.59.51 0 1.02-.2 1.41-.59l7.78-7.78 2.81-2.81c.8-.78.8-2.07 0-2.86zM5.41 20L4 18.59l7.72-7.72 1.47 1.35L5.41 20z\"/>\n",
              "  </svg>\n",
              "      </button>\n",
              "      \n",
              "  <style>\n",
              "    .colab-df-container {\n",
              "      display:flex;\n",
              "      flex-wrap:wrap;\n",
              "      gap: 12px;\n",
              "    }\n",
              "\n",
              "    .colab-df-convert {\n",
              "      background-color: #E8F0FE;\n",
              "      border: none;\n",
              "      border-radius: 50%;\n",
              "      cursor: pointer;\n",
              "      display: none;\n",
              "      fill: #1967D2;\n",
              "      height: 32px;\n",
              "      padding: 0 0 0 0;\n",
              "      width: 32px;\n",
              "    }\n",
              "\n",
              "    .colab-df-convert:hover {\n",
              "      background-color: #E2EBFA;\n",
              "      box-shadow: 0px 1px 2px rgba(60, 64, 67, 0.3), 0px 1px 3px 1px rgba(60, 64, 67, 0.15);\n",
              "      fill: #174EA6;\n",
              "    }\n",
              "\n",
              "    [theme=dark] .colab-df-convert {\n",
              "      background-color: #3B4455;\n",
              "      fill: #D2E3FC;\n",
              "    }\n",
              "\n",
              "    [theme=dark] .colab-df-convert:hover {\n",
              "      background-color: #434B5C;\n",
              "      box-shadow: 0px 1px 3px 1px rgba(0, 0, 0, 0.15);\n",
              "      filter: drop-shadow(0px 1px 2px rgba(0, 0, 0, 0.3));\n",
              "      fill: #FFFFFF;\n",
              "    }\n",
              "  </style>\n",
              "\n",
              "      <script>\n",
              "        const buttonEl =\n",
              "          document.querySelector('#df-6fed6f0a-82fe-4b52-8109-f85b890ad632 button.colab-df-convert');\n",
              "        buttonEl.style.display =\n",
              "          google.colab.kernel.accessAllowed ? 'block' : 'none';\n",
              "\n",
              "        async function convertToInteractive(key) {\n",
              "          const element = document.querySelector('#df-6fed6f0a-82fe-4b52-8109-f85b890ad632');\n",
              "          const dataTable =\n",
              "            await google.colab.kernel.invokeFunction('convertToInteractive',\n",
              "                                                     [key], {});\n",
              "          if (!dataTable) return;\n",
              "\n",
              "          const docLinkHtml = 'Like what you see? Visit the ' +\n",
              "            '<a target=\"_blank\" href=https://colab.research.google.com/notebooks/data_table.ipynb>data table notebook</a>'\n",
              "            + ' to learn more about interactive tables.';\n",
              "          element.innerHTML = '';\n",
              "          dataTable['output_type'] = 'display_data';\n",
              "          await google.colab.output.renderOutput(dataTable, element);\n",
              "          const docLink = document.createElement('div');\n",
              "          docLink.innerHTML = docLinkHtml;\n",
              "          element.appendChild(docLink);\n",
              "        }\n",
              "      </script>\n",
              "    </div>\n",
              "  </div>\n",
              "  "
            ]
          },
          "metadata": {},
          "execution_count": 155
        }
      ]
    },
    {
      "cell_type": "code",
      "source": [
        "df.info()"
      ],
      "metadata": {
        "colab": {
          "base_uri": "https://localhost:8080/"
        },
        "id": "P8-VkZsJeWt7",
        "outputId": "107df407-574c-492e-859e-033296e68449"
      },
      "execution_count": 156,
      "outputs": [
        {
          "output_type": "stream",
          "name": "stdout",
          "text": [
            "<class 'pandas.core.frame.DataFrame'>\n",
            "RangeIndex: 4248 entries, 0 to 4247\n",
            "Data columns (total 20 columns):\n",
            " #   Column          Non-Null Count  Dtype \n",
            "---  ------          --------------  ----- \n",
            " 0   Area Code       4248 non-null   int64 \n",
            " 1   Date            4248 non-null   int64 \n",
            " 2   Market          4248 non-null   object\n",
            " 3   Market Size     4248 non-null   object\n",
            " 4   Product         4248 non-null   object\n",
            " 5   Product Line    4248 non-null   object\n",
            " 6   Product Type    4248 non-null   object\n",
            " 7   State           4248 non-null   object\n",
            " 8   Type            4248 non-null   object\n",
            " 9   Budget COGS     4248 non-null   int64 \n",
            " 10  Budget Margin   4248 non-null   int64 \n",
            " 11  Budget Profit   4248 non-null   int64 \n",
            " 12  Budget Sales    4248 non-null   int64 \n",
            " 13  COGS            4248 non-null   int64 \n",
            " 14  Inventory       4248 non-null   int64 \n",
            " 15  Margin          4248 non-null   int64 \n",
            " 16  Marketing       4248 non-null   int64 \n",
            " 17  Profit          4248 non-null   int64 \n",
            " 18  Sales           4248 non-null   int64 \n",
            " 19  Total Expenses  4248 non-null   int64 \n",
            "dtypes: int64(13), object(7)\n",
            "memory usage: 663.9+ KB\n"
          ]
        }
      ]
    },
    {
      "cell_type": "code",
      "source": [
        "df.isnull().sum() "
      ],
      "metadata": {
        "colab": {
          "base_uri": "https://localhost:8080/"
        },
        "id": "TJD6bM_fjgwV",
        "outputId": "5981745e-a90c-4a76-fd80-201de6ec0bbd"
      },
      "execution_count": 157,
      "outputs": [
        {
          "output_type": "execute_result",
          "data": {
            "text/plain": [
              "Area Code         0\n",
              "Date              0\n",
              "Market            0\n",
              "Market Size       0\n",
              "Product           0\n",
              "Product Line      0\n",
              "Product Type      0\n",
              "State             0\n",
              "Type              0\n",
              "Budget COGS       0\n",
              "Budget Margin     0\n",
              "Budget Profit     0\n",
              "Budget Sales      0\n",
              "COGS              0\n",
              "Inventory         0\n",
              "Margin            0\n",
              "Marketing         0\n",
              "Profit            0\n",
              "Sales             0\n",
              "Total Expenses    0\n",
              "dtype: int64"
            ]
          },
          "metadata": {},
          "execution_count": 157
        }
      ]
    },
    {
      "cell_type": "code",
      "source": [
        "df = df.dropna()\n",
        "df.info()"
      ],
      "metadata": {
        "colab": {
          "base_uri": "https://localhost:8080/"
        },
        "id": "CgI25yzOeaXM",
        "outputId": "65bf768a-bdc8-4956-c479-18dcc97ea52b"
      },
      "execution_count": 158,
      "outputs": [
        {
          "output_type": "stream",
          "name": "stdout",
          "text": [
            "<class 'pandas.core.frame.DataFrame'>\n",
            "Int64Index: 4248 entries, 0 to 4247\n",
            "Data columns (total 20 columns):\n",
            " #   Column          Non-Null Count  Dtype \n",
            "---  ------          --------------  ----- \n",
            " 0   Area Code       4248 non-null   int64 \n",
            " 1   Date            4248 non-null   int64 \n",
            " 2   Market          4248 non-null   object\n",
            " 3   Market Size     4248 non-null   object\n",
            " 4   Product         4248 non-null   object\n",
            " 5   Product Line    4248 non-null   object\n",
            " 6   Product Type    4248 non-null   object\n",
            " 7   State           4248 non-null   object\n",
            " 8   Type            4248 non-null   object\n",
            " 9   Budget COGS     4248 non-null   int64 \n",
            " 10  Budget Margin   4248 non-null   int64 \n",
            " 11  Budget Profit   4248 non-null   int64 \n",
            " 12  Budget Sales    4248 non-null   int64 \n",
            " 13  COGS            4248 non-null   int64 \n",
            " 14  Inventory       4248 non-null   int64 \n",
            " 15  Margin          4248 non-null   int64 \n",
            " 16  Marketing       4248 non-null   int64 \n",
            " 17  Profit          4248 non-null   int64 \n",
            " 18  Sales           4248 non-null   int64 \n",
            " 19  Total Expenses  4248 non-null   int64 \n",
            "dtypes: int64(13), object(7)\n",
            "memory usage: 696.9+ KB\n"
          ]
        }
      ]
    },
    {
      "cell_type": "code",
      "source": [
        "df.columns = df.columns.str.replace(' ', '')\n",
        "df.columns"
      ],
      "metadata": {
        "colab": {
          "base_uri": "https://localhost:8080/"
        },
        "id": "br6Xzz1UedPo",
        "outputId": "f779bcb1-d6a8-483f-d686-35a7d138617b"
      },
      "execution_count": 159,
      "outputs": [
        {
          "output_type": "execute_result",
          "data": {
            "text/plain": [
              "Index(['AreaCode', 'Date', 'Market', 'MarketSize', 'Product', 'ProductLine',\n",
              "       'ProductType', 'State', 'Type', 'BudgetCOGS', 'BudgetMargin',\n",
              "       'BudgetProfit', 'BudgetSales', 'COGS', 'Inventory', 'Margin',\n",
              "       'Marketing', 'Profit', 'Sales', 'TotalExpenses'],\n",
              "      dtype='object')"
            ]
          },
          "metadata": {},
          "execution_count": 159
        }
      ]
    },
    {
      "cell_type": "code",
      "source": [
        "df.columns = df.columns.str.lower()\n",
        "df.columns"
      ],
      "metadata": {
        "colab": {
          "base_uri": "https://localhost:8080/"
        },
        "id": "Mo95kgzpeezo",
        "outputId": "1dff8af5-6000-4ef6-e740-64fc9f33a687"
      },
      "execution_count": 161,
      "outputs": [
        {
          "output_type": "execute_result",
          "data": {
            "text/plain": [
              "Index(['areacode', 'date', 'market', 'marketsize', 'product', 'productline',\n",
              "       'producttype', 'state', 'type', 'budgetcogs', 'budgetmargin',\n",
              "       'budgetprofit', 'budgetsales', 'cogs', 'inventory', 'margin',\n",
              "       'marketing', 'profit', 'sales', 'totalexpenses'],\n",
              "      dtype='object')"
            ]
          },
          "metadata": {},
          "execution_count": 161
        }
      ]
    },
    {
      "cell_type": "code",
      "source": [
        "df['budgetmargin'].plot();\n",
        "\n",
        "plt.legend(loc='upper right');  #default chart type is line"
      ],
      "metadata": {
        "colab": {
          "base_uri": "https://localhost:8080/",
          "height": 265
        },
        "id": "fMARSlRyevsV",
        "outputId": "759a7112-ac22-4099-ba2d-dd68dfe52129"
      },
      "execution_count": 162,
      "outputs": [
        {
          "output_type": "display_data",
          "data": {
            "text/plain": [
              "<Figure size 432x288 with 1 Axes>"
            ],
            "image/png": "[encoded data removed]"
          },
          "metadata": {
            "needs_background": "light"
          }
        }
      ]
    },
    {
      "cell_type": "code",
      "source": [
        "df['profit'].plot();"
      ],
      "metadata": {
        "colab": {
          "base_uri": "https://localhost:8080/",
          "height": 265
        },
        "id": "0I9PKx4XfWQR",
        "outputId": "96a76545-c1a5-43b2-eafe-e498bda780ea"
      },
      "execution_count": 163,
      "outputs": [
        {
          "output_type": "display_data",
          "data": {
            "text/plain": [
              "<Figure size 432x288 with 1 Axes>"
            ],
            "image/png": "[encoded data removed]"
          },
          "metadata": {
            "needs_background": "light"
          }
        }
      ]
    },
    {
      "cell_type": "code",
      "source": [
        "df.plot.scatter(x='budgetmargin', y='profit');    # you're studying the relationship between two variables, then use scatter plot"
      ],
      "metadata": {
        "colab": {
          "base_uri": "https://localhost:8080/",
          "height": 279
        },
        "id": "ahHnzj_PfheK",
        "outputId": "c518a288-eca0-40d5-fa7a-c810ed82c57f"
      },
      "execution_count": 164,
      "outputs": [
        {
          "output_type": "display_data",
          "data": {
            "text/plain": [
              "<Figure size 432x288 with 1 Axes>"
            ],
            "image/png": "[encoded data removed]"
          },
          "metadata": {
            "needs_background": "light"
          }
        }
      ]
    },
    {
      "cell_type": "code",
      "source": [
        "df.plot(kind = 'scatter',x='budgetmargin', y='profit')"
      ],
      "metadata": {
        "colab": {
          "base_uri": "https://localhost:8080/",
          "height": 296
        },
        "id": "rZVnIucMVSDP",
        "outputId": "897a81d0-8382-473c-9097-57a2ab8e6f4e"
      },
      "execution_count": 165,
      "outputs": [
        {
          "output_type": "execute_result",
          "data": {
            "text/plain": [
              "<AxesSubplot:xlabel='budgetmargin', ylabel='profit'>"
            ]
          },
          "metadata": {},
          "execution_count": 165
        },
        {
          "output_type": "display_data",
          "data": {
            "text/plain": [
              "<Figure size 432x288 with 1 Axes>"
            ],
            "image/png": "[encoded data removed]"
          },
          "metadata": {
            "needs_background": "light"
          }
        }
      ]
    },
    {
      "cell_type": "code",
      "source": [
        "g = df.groupby('product')['profit','sales'].mean()\n",
        "g"
      ],
      "metadata": {
        "colab": {
          "base_uri": "https://localhost:8080/",
          "height": 557
        },
        "id": "iBULZMyxfumB",
        "outputId": "875644f2-f6d7-4062-d168-4089ceb60e20"
      },
      "execution_count": 166,
      "outputs": [
        {
          "output_type": "stream",
          "name": "stderr",
          "text": [
            "<ipython-input-166-db6a49c2990e>:1: FutureWarning:\n",
            "\n",
            "Indexing with multiple keys (implicitly converted to a tuple of keys) will be deprecated, use a list instead.\n",
            "\n"
          ]
        },
        {
          "output_type": "execute_result",
          "data": {
            "text/plain": [
              "                       profit       sales\n",
              "product                                  \n",
              "Amaretto            25.468750  136.817708\n",
              "Caffe Latte         52.662037  166.199074\n",
              "Caffe Mocha         36.829167  176.883333\n",
              "Chamomile           70.914062  196.817708\n",
              "Colombian          116.258333  267.314583\n",
              "Darjeeling          75.658854  190.497396\n",
              "Decaf Espresso      72.308824  191.573529\n",
              "Decaf Irish Cream   36.429688  162.104167\n",
              "Earl Grey           83.902778  231.847222\n",
              "Green Tea           -0.802083  114.062500\n",
              "Lemon               62.227083  199.845833\n",
              "Mint                32.052083  185.989583\n",
              "Regular Espresso   139.791667  333.763889"
            ],
            "text/html": [
              "\n",
              "  <div id=\"df-ce0f77c0-5066-4691-9f03-6eeac54639df\">\n",
              "    <div class=\"colab-df-container\">\n",
              "      <div>\n",
              "<style scoped>\n",
              "    .dataframe tbody tr th:only-of-type {\n",
              "        vertical-align: middle;\n",
              "    }\n",
              "\n",
              "    .dataframe tbody tr th {\n",
              "        vertical-align: top;\n",
              "    }\n",
              "\n",
              "    .dataframe thead th {\n",
              "        text-align: right;\n",
              "    }\n",
              "</style>\n",
              "<table border=\"1\" class=\"dataframe\">\n",
              "  <thead>\n",
              "    <tr style=\"text-align: right;\">\n",
              "      <th></th>\n",
              "      <th>profit</th>\n",
              "      <th>sales</th>\n",
              "    </tr>\n",
              "    <tr>\n",
              "      <th>product</th>\n",
              "      <th></th>\n",
              "      <th></th>\n",
              "    </tr>\n",
              "  </thead>\n",
              "  <tbody>\n",
              "    <tr>\n",
              "      <th>Amaretto</th>\n",
              "      <td>25.468750</td>\n",
              "      <td>136.817708</td>\n",
              "    </tr>\n",
              "    <tr>\n",
              "      <th>Caffe Latte</th>\n",
              "      <td>52.662037</td>\n",
              "      <td>166.199074</td>\n",
              "    </tr>\n",
              "    <tr>\n",
              "      <th>Caffe Mocha</th>\n",
              "      <td>36.829167</td>\n",
              "      <td>176.883333</td>\n",
              "    </tr>\n",
              "    <tr>\n",
              "      <th>Chamomile</th>\n",
              "      <td>70.914062</td>\n",
              "      <td>196.817708</td>\n",
              "    </tr>\n",
              "    <tr>\n",
              "      <th>Colombian</th>\n",
              "      <td>116.258333</td>\n",
              "      <td>267.314583</td>\n",
              "    </tr>\n",
              "    <tr>\n",
              "      <th>Darjeeling</th>\n",
              "      <td>75.658854</td>\n",
              "      <td>190.497396</td>\n",
              "    </tr>\n",
              "    <tr>\n",
              "      <th>Decaf Espresso</th>\n",
              "      <td>72.308824</td>\n",
              "      <td>191.573529</td>\n",
              "    </tr>\n",
              "    <tr>\n",
              "      <th>Decaf Irish Cream</th>\n",
              "      <td>36.429688</td>\n",
              "      <td>162.104167</td>\n",
              "    </tr>\n",
              "    <tr>\n",
              "      <th>Earl Grey</th>\n",
              "      <td>83.902778</td>\n",
              "      <td>231.847222</td>\n",
              "    </tr>\n",
              "    <tr>\n",
              "      <th>Green Tea</th>\n",
              "      <td>-0.802083</td>\n",
              "      <td>114.062500</td>\n",
              "    </tr>\n",
              "    <tr>\n",
              "      <th>Lemon</th>\n",
              "      <td>62.227083</td>\n",
              "      <td>199.845833</td>\n",
              "    </tr>\n",
              "    <tr>\n",
              "      <th>Mint</th>\n",
              "      <td>32.052083</td>\n",
              "      <td>185.989583</td>\n",
              "    </tr>\n",
              "    <tr>\n",
              "      <th>Regular Espresso</th>\n",
              "      <td>139.791667</td>\n",
              "      <td>333.763889</td>\n",
              "    </tr>\n",
              "  </tbody>\n",
              "</table>\n",
              "</div>\n",
              "      <button class=\"colab-df-convert\" onclick=\"convertToInteractive('df-ce0f77c0-5066-4691-9f03-6eeac54639df')\"\n",
              "              title=\"Convert this dataframe to an interactive table.\"\n",
              "              style=\"display:none;\">\n",
              "        \n",
              "  <svg xmlns=\"http://www.w3.org/2000/svg\" height=\"24px\"viewBox=\"0 0 24 24\"\n",
              "       width=\"24px\">\n",
              "    <path d=\"M0 0h24v24H0V0z\" fill=\"none\"/>\n",
              "    <path d=\"M18.56 5.44l.94 2.06.94-2.06 2.06-.94-2.06-.94-.94-2.06-.94 2.06-2.06.94zm-11 1L8.5 8.5l.94-2.06 2.06-.94-2.06-.94L8.5 2.5l-.94 2.06-2.06.94zm10 10l.94 2.06.94-2.06 2.06-.94-2.06-.94-.94-2.06-.94 2.06-2.06.94z\"/><path d=\"M17.41 7.96l-1.37-1.37c-.4-.4-.92-.59-1.43-.59-.52 0-1.04.2-1.43.59L10.3 9.45l-7.72 7.72c-.78.78-.78 2.05 0 2.83L4 21.41c.39.39.9.59 1.41.59.51 0 1.02-.2 1.41-.59l7.78-7.78 2.81-2.81c.8-.78.8-2.07 0-2.86zM5.41 20L4 18.59l7.72-7.72 1.47 1.35L5.41 20z\"/>\n",
              "  </svg>\n",
              "      </button>\n",
              "      \n",
              "  <style>\n",
              "    .colab-df-container {\n",
              "      display:flex;\n",
              "      flex-wrap:wrap;\n",
              "      gap: 12px;\n",
              "    }\n",
              "\n",
              "    .colab-df-convert {\n",
              "      background-color: #E8F0FE;\n",
              "      border: none;\n",
              "      border-radius: 50%;\n",
              "      cursor: pointer;\n",
              "      display: none;\n",
              "      fill: #1967D2;\n",
              "      height: 32px;\n",
              "      padding: 0 0 0 0;\n",
              "      width: 32px;\n",
              "    }\n",
              "\n",
              "    .colab-df-convert:hover {\n",
              "      background-color: #E2EBFA;\n",
              "      box-shadow: 0px 1px 2px rgba(60, 64, 67, 0.3), 0px 1px 3px 1px rgba(60, 64, 67, 0.15);\n",
              "      fill: #174EA6;\n",
              "    }\n",
              "\n",
              "    [theme=dark] .colab-df-convert {\n",
              "      background-color: #3B4455;\n",
              "      fill: #D2E3FC;\n",
              "    }\n",
              "\n",
              "    [theme=dark] .colab-df-convert:hover {\n",
              "      background-color: #434B5C;\n",
              "      box-shadow: 0px 1px 3px 1px rgba(0, 0, 0, 0.15);\n",
              "      filter: drop-shadow(0px 1px 2px rgba(0, 0, 0, 0.3));\n",
              "      fill: #FFFFFF;\n",
              "    }\n",
              "  </style>\n",
              "\n",
              "      <script>\n",
              "        const buttonEl =\n",
              "          document.querySelector('#df-ce0f77c0-5066-4691-9f03-6eeac54639df button.colab-df-convert');\n",
              "        buttonEl.style.display =\n",
              "          google.colab.kernel.accessAllowed ? 'block' : 'none';\n",
              "\n",
              "        async function convertToInteractive(key) {\n",
              "          const element = document.querySelector('#df-ce0f77c0-5066-4691-9f03-6eeac54639df');\n",
              "          const dataTable =\n",
              "            await google.colab.kernel.invokeFunction('convertToInteractive',\n",
              "                                                     [key], {});\n",
              "          if (!dataTable) return;\n",
              "\n",
              "          const docLinkHtml = 'Like what you see? Visit the ' +\n",
              "            '<a target=\"_blank\" href=https://colab.research.google.com/notebooks/data_table.ipynb>data table notebook</a>'\n",
              "            + ' to learn more about interactive tables.';\n",
              "          element.innerHTML = '';\n",
              "          dataTable['output_type'] = 'display_data';\n",
              "          await google.colab.output.renderOutput(dataTable, element);\n",
              "          const docLink = document.createElement('div');\n",
              "          docLink.innerHTML = docLinkHtml;\n",
              "          element.appendChild(docLink);\n",
              "        }\n",
              "      </script>\n",
              "    </div>\n",
              "  </div>\n",
              "  "
            ]
          },
          "metadata": {},
          "execution_count": 166
        }
      ]
    },
    {
      "cell_type": "code",
      "source": [
        "g.plot(kind = 'bar', figsize = (10,6), stacked = True )"
      ],
      "metadata": {
        "colab": {
          "base_uri": "https://localhost:8080/",
          "height": 485
        },
        "id": "ZDz1jAyQiTZ6",
        "outputId": "57337cfd-55bc-43a8-c29f-989c60eeaf96"
      },
      "execution_count": 168,
      "outputs": [
        {
          "output_type": "execute_result",
          "data": {
            "text/plain": [
              "<AxesSubplot:xlabel='product'>"
            ]
          },
          "metadata": {},
          "execution_count": 168
        },
        {
          "output_type": "display_data",
          "data": {
            "text/plain": [
              "<Figure size 720x432 with 1 Axes>"
            ],
            "image/png": "[encoded data removed]"
          },
          "metadata": {
            "needs_background": "light"
          }
        }
      ]
    },
    {
      "cell_type": "code",
      "source": [
        "g.plot(kind = 'hist', figsize = (10,6), stacked = True )"
      ],
      "metadata": {
        "colab": {
          "base_uri": "https://localhost:8080/",
          "height": 391
        },
        "id": "JK7QuU-HlnmP",
        "outputId": "6265e42f-d0cc-4774-f42f-bdc2012edb58"
      },
      "execution_count": 169,
      "outputs": [
        {
          "output_type": "execute_result",
          "data": {
            "text/plain": [
              "<AxesSubplot:ylabel='Frequency'>"
            ]
          },
          "metadata": {},
          "execution_count": 169
        },
        {
          "output_type": "display_data",
          "data": {
            "text/plain": [
              "<Figure size 720x432 with 1 Axes>"
            ],
            "image/png": "[encoded data removed]"
          },
          "metadata": {
            "needs_background": "light"
          }
        }
      ]
    },
    {
      "cell_type": "code",
      "source": [
        "df['sales'].plot(kind = 'hist', figsize = (10,6) )\n"
      ],
      "metadata": {
        "colab": {
          "base_uri": "https://localhost:8080/",
          "height": 391
        },
        "id": "UlOUiTlpkaEN",
        "outputId": "d3759f64-3d12-4df9-e9a4-e0646bba4c30"
      },
      "execution_count": 170,
      "outputs": [
        {
          "output_type": "execute_result",
          "data": {
            "text/plain": [
              "<AxesSubplot:ylabel='Frequency'>"
            ]
          },
          "metadata": {},
          "execution_count": 170
        },
        {
          "output_type": "display_data",
          "data": {
            "text/plain": [
              "<Figure size 720x432 with 1 Axes>"
            ],
            "image/png": "[encoded data removed]"
          },
          "metadata": {
            "needs_background": "light"
          }
        }
      ]
    },
    {
      "cell_type": "code",
      "source": [
        "df.plot(kind = 'box', figsize = (10,10) )"
      ],
      "metadata": {
        "colab": {
          "base_uri": "https://localhost:8080/",
          "height": 609
        },
        "id": "oiucK7lOnIEi",
        "outputId": "591b6766-d72b-49f8-fac7-4b9ac2cdd9b5"
      },
      "execution_count": 171,
      "outputs": [
        {
          "output_type": "execute_result",
          "data": {
            "text/plain": [
              "<AxesSubplot:>"
            ]
          },
          "metadata": {},
          "execution_count": 171
        },
        {
          "output_type": "display_data",
          "data": {
            "text/plain": [
              "<Figure size 720x720 with 1 Axes>"
            ],
            "image/png": "[encoded data removed]"
          },
          "metadata": {
            "needs_background": "light"
          }
        }
      ]
    },
    {
      "cell_type": "code",
      "source": [
        "df.boxplot(column=['inventory'], by=['profit']);"
      ],
      "metadata": {
        "colab": {
          "base_uri": "https://localhost:8080/",
          "height": 301
        },
        "id": "1PWKv7FOomAD",
        "outputId": "a77acaca-5f4b-468e-a171-6deb08d74967"
      },
      "execution_count": 172,
      "outputs": [
        {
          "output_type": "display_data",
          "data": {
            "text/plain": [
              "<Figure size 432x288 with 1 Axes>"
            ],
            "image/png": "[encoded data removed]"
          },
          "metadata": {
            "needs_background": "light"
          }
        }
      ]
    },
    {
      "cell_type": "code",
      "source": [
        "df.boxplot(column=['inventory'], by=['producttype']);"
      ],
      "metadata": {
        "colab": {
          "base_uri": "https://localhost:8080/",
          "height": 301
        },
        "id": "heyqcBybo1Ep",
        "outputId": "acf97a9c-cbee-4240-a071-21f28137f2ed"
      },
      "execution_count": 173,
      "outputs": [
        {
          "output_type": "display_data",
          "data": {
            "text/plain": [
              "<Figure size 432x288 with 1 Axes>"
            ],
            "image/png": "[encoded data removed]"
          },
          "metadata": {
            "needs_background": "light"
          }
        }
      ]
    },
    {
      "cell_type": "code",
      "source": [
        "g = df.groupby('producttype').size()\n",
        "g.plot(kind = 'pie', autopct='%.2f', figsize = (10,6) )"
      ],
      "metadata": {
        "colab": {
          "base_uri": "https://localhost:8080/",
          "height": 374
        },
        "id": "ZH4hW0fbpLq7",
        "outputId": "efe79349-bb72-4a21-8085-5e1cc818d1fb"
      },
      "execution_count": 175,
      "outputs": [
        {
          "output_type": "execute_result",
          "data": {
            "text/plain": [
              "<AxesSubplot:ylabel='None'>"
            ]
          },
          "metadata": {},
          "execution_count": 175
        },
        {
          "output_type": "display_data",
          "data": {
            "text/plain": [
              "<Figure size 720x432 with 1 Axes>"
            ],
            "image/png": "[encoded data removed]"
          },
          "metadata": {}
        }
      ]
    },
    {
      "cell_type": "code",
      "source": [
        "x=df['profit'].mean()\n",
        "y=df['sales'].median()\n",
        "print('Mean Capacity= ',x,'Median Capacity= ',y)"
      ],
      "metadata": {
        "colab": {
          "base_uri": "https://localhost:8080/"
        },
        "id": "R1MAnlQQp4Bm",
        "outputId": "5c92c03e-f1aa-4960-dfc7-48d488b0a3bb"
      },
      "execution_count": 176,
      "outputs": [
        {
          "output_type": "stream",
          "name": "stdout",
          "text": [
            "Mean Capacity=  61.097693032015066 Median Capacity=  138.0\n"
          ]
        }
      ]
    },
    {
      "cell_type": "code",
      "source": [
        "\n",
        "#Variance\n",
        "df['profit'].var()"
      ],
      "metadata": {
        "colab": {
          "base_uri": "https://localhost:8080/"
        },
        "id": "svD-cmjPp9dP",
        "outputId": "3f73f057-e66c-4a99-abe2-605e91396a76"
      },
      "execution_count": 177,
      "outputs": [
        {
          "output_type": "execute_result",
          "data": {
            "text/plain": [
              "10344.628315844528"
            ]
          },
          "metadata": {},
          "execution_count": 177
        }
      ]
    },
    {
      "cell_type": "code",
      "source": [
        "\n",
        "#Standard Deviation\n",
        "df['sales'].std()"
      ],
      "metadata": {
        "colab": {
          "base_uri": "https://localhost:8080/"
        },
        "id": "z8iUmV33p4q3",
        "outputId": "3794f725-64ee-4e4f-8a84-bdcfeeaec2a8"
      },
      "execution_count": 178,
      "outputs": [
        {
          "output_type": "execute_result",
          "data": {
            "text/plain": [
              "151.1331271391155"
            ]
          },
          "metadata": {},
          "execution_count": 178
        }
      ]
    },
    {
      "cell_type": "code",
      "source": [
        "#Stem-and-Leaf plot\n",
        "#!pip install stemgraphic\n",
        "import stemgraphic as STM"
      ],
      "metadata": {
        "id": "2-yyWTM7qAOF"
      },
      "execution_count": 179,
      "outputs": []
    },
    {
      "cell_type": "code",
      "source": [
        "a = df.sample(15)"
      ],
      "metadata": {
        "id": "zNGPyE_DJLq5"
      },
      "execution_count": 180,
      "outputs": []
    },
    {
      "cell_type": "code",
      "source": [
        "\n",
        "Fig, ax=STM.stem_graphic(a['profit'],scale=10)"
      ],
      "metadata": {
        "colab": {
          "base_uri": "https://localhost:8080/",
          "height": 475
        },
        "id": "XMi7sYNEqHwd",
        "outputId": "1d45fd86-428e-42fc-a69d-b97bffd4362d"
      },
      "execution_count": 181,
      "outputs": [
        {
          "output_type": "display_data",
          "data": {
            "text/plain": [
              "<Figure size 540x486 with 1 Axes>"
            ],
            "image/png": "[encoded data removed]"
          },
          "metadata": {
            "needs_background": "light"
          }
        }
      ]
    },
    {
      "cell_type": "code",
      "source": [
        "\n",
        "L=1\n",
        "U=6\n",
        "\n",
        "X = np.arange(L, U+1)\n",
        "\n",
        "print(X)"
      ],
      "metadata": {
        "colab": {
          "base_uri": "https://localhost:8080/"
        },
        "id": "wR52bLr8q_l6",
        "outputId": "b5503807-16e3-4e90-ef37-1487d2fe10a0"
      },
      "execution_count": 182,
      "outputs": [
        {
          "output_type": "stream",
          "name": "stdout",
          "text": [
            "[1 2 3 4 5 6]\n"
          ]
        }
      ]
    },
    {
      "cell_type": "code",
      "source": [
        "\n",
        "from scipy.stats import randint \n",
        "D_uni_dist = randint(L, U+1)\n",
        "D_uni_pmf = D_uni_dist.pmf(X)\n",
        "\n",
        "#print(D_uni_pmf)\n",
        "D_uni_pmf[:5]\n",
        "     "
      ],
      "metadata": {
        "colab": {
          "base_uri": "https://localhost:8080/"
        },
        "id": "0iccjcZ-rHaA",
        "outputId": "118c0ae2-a5c2-456a-da5c-8de0cbdfc355"
      },
      "execution_count": 183,
      "outputs": [
        {
          "output_type": "execute_result",
          "data": {
            "text/plain": [
              "array([0.16666667, 0.16666667, 0.16666667, 0.16666667, 0.16666667])"
            ]
          },
          "metadata": {},
          "execution_count": 183
        }
      ]
    },
    {
      "cell_type": "code",
      "source": [
        "plt.plot(X, D_uni_pmf,'bo', ms=8)\n",
        "plt.vlines(X, 0, D_uni_pmf, colors='b', lw=5, alpha=0.5)\n",
        "plt.xlabel('X')\n",
        "plt.ylabel('Probability')\n",
        "plt.show()\n",
        "     "
      ],
      "metadata": {
        "colab": {
          "base_uri": "https://localhost:8080/",
          "height": 283
        },
        "id": "BYkD6HUzrbc1",
        "outputId": "2806d459-b426-48fd-fb34-11781102f0a1"
      },
      "execution_count": 184,
      "outputs": [
        {
          "output_type": "display_data",
          "data": {
            "text/plain": [
              "<Figure size 432x288 with 1 Axes>"
            ],
            "image/png": "[encoded data removed]"
          },
          "metadata": {
            "needs_background": "light"
          }
        }
      ]
    },
    {
      "cell_type": "code",
      "source": [
        "#Finding mean and variance of normal distribution\n",
        "from scipy.stats import norm\n",
        "x = np.random.randn(20)\n",
        "mu, sigma  = np.mean(x), np.std(x)\n",
        "z_2= norm.ppf(0.85,mu,sigma)\n",
        "z_2"
      ],
      "metadata": {
        "colab": {
          "base_uri": "https://localhost:8080/"
        },
        "id": "Z9JaQwGsscJt",
        "outputId": "e38bd497-6b6b-4b6f-a25d-a6581ec8c9f8"
      },
      "execution_count": 185,
      "outputs": [
        {
          "output_type": "execute_result",
          "data": {
            "text/plain": [
              "0.9916935766615128"
            ]
          },
          "metadata": {},
          "execution_count": 185
        }
      ]
    },
    {
      "cell_type": "code",
      "source": [
        "#Generating exponentially distributed data with lambda=20 and sample size=40\n",
        "#In python scipy package default value of lambda=scale=1, so to transform, scale = 1/lambda\n",
        "from scipy.stats import expon\n",
        "x=expon.rvs(scale=1/20,size=40)\n",
        "m, v, s = expon.mean(scale=1/20), expon.var(scale=1/20), expon.std(scale=1/20)\n",
        "print('mean = ', m, 'Variance = ', v, 'Standard Deviation =', s)\n",
        "     "
      ],
      "metadata": {
        "colab": {
          "base_uri": "https://localhost:8080/"
        },
        "id": "e-PrmIQxu-7_",
        "outputId": "b3ee75c5-1caa-418b-924e-038d89f69f1d"
      },
      "execution_count": 186,
      "outputs": [
        {
          "output_type": "stream",
          "name": "stdout",
          "text": [
            "mean =  0.05 Variance =  0.0025000000000000005 Standard Deviation = 0.05\n"
          ]
        }
      ]
    },
    {
      "cell_type": "code",
      "source": [
        "#lets test our data\n",
        "#normality testing\n",
        "#%pip install pingouin\n",
        "import pingouin as pg\n",
        "plt.show()            \n",
        "pg.qqplot(df['profit']).set_title('OUR DATA')"
      ],
      "metadata": {
        "colab": {
          "base_uri": "https://localhost:8080/",
          "height": 312
        },
        "id": "qF10QhG13nL6",
        "outputId": "ef74da9f-e08c-4128-9652-c570990e12ae"
      },
      "execution_count": 187,
      "outputs": [
        {
          "output_type": "execute_result",
          "data": {
            "text/plain": [
              "Text(0.5, 1.0, 'OUR DATA')"
            ]
          },
          "metadata": {},
          "execution_count": 187
        },
        {
          "output_type": "display_data",
          "data": {
            "text/plain": [
              "<Figure size 432x288 with 1 Axes>"
            ],
            "image/png": "[encoded data removed]"
          },
          "metadata": {
            "needs_background": "light"
          }
        }
      ]
    },
    {
      "cell_type": "code",
      "source": [
        "print(stats.normaltest(df['profit']))"
      ],
      "metadata": {
        "colab": {
          "base_uri": "https://localhost:8080/"
        },
        "id": "r9Uksee0nj1d",
        "outputId": "08cbe21f-6da9-43b1-8d3e-0c2fc9bad6ff"
      },
      "execution_count": 188,
      "outputs": [
        {
          "output_type": "stream",
          "name": "stdout",
          "text": [
            "NormaltestResult(statistic=868.8702126189571, pvalue=2.124372078833051e-189)\n"
          ]
        }
      ]
    },
    {
      "cell_type": "code",
      "source": [
        "plt.show()            \n",
        "pg.qqplot(df['cogs']).set_title('OUR DATA')"
      ],
      "metadata": {
        "colab": {
          "base_uri": "https://localhost:8080/",
          "height": 312
        },
        "id": "rFHmZ0Zq35kv",
        "outputId": "ea40e6e2-5629-4848-938d-bfa118f15863"
      },
      "execution_count": 189,
      "outputs": [
        {
          "output_type": "execute_result",
          "data": {
            "text/plain": [
              "Text(0.5, 1.0, 'OUR DATA')"
            ]
          },
          "metadata": {},
          "execution_count": 189
        },
        {
          "output_type": "display_data",
          "data": {
            "text/plain": [
              "<Figure size 432x288 with 1 Axes>"
            ],
            "image/png": "[encoded data removed]"
          },
          "metadata": {
            "needs_background": "light"
          }
        }
      ]
    },
    {
      "cell_type": "code",
      "source": [
        "print(stats.normaltest(df['cogs']))"
      ],
      "metadata": {
        "colab": {
          "base_uri": "https://localhost:8080/"
        },
        "id": "-A7jephk7UNd",
        "outputId": "d0ecf9fd-2147-407c-86b6-c6954f13046f"
      },
      "execution_count": 190,
      "outputs": [
        {
          "output_type": "stream",
          "name": "stdout",
          "text": [
            "NormaltestResult(statistic=1247.3968740067958, pvalue=1.3527278697968197e-271)\n"
          ]
        }
      ]
    },
    {
      "cell_type": "code",
      "source": [
        "url = \"https://raw.githubusercontent.com/KhmAsif/IMSE441/main/Conf_interval.csv\"\n",
        "df = pd.read_csv(url)\n",
        "df.head(2)"
      ],
      "metadata": {
        "colab": {
          "base_uri": "https://localhost:8080/",
          "height": 112
        },
        "id": "1oeg07JI6FtT",
        "outputId": "662ff6bd-f05c-42e1-9d95-28f999dd4840"
      },
      "execution_count": 191,
      "outputs": [
        {
          "output_type": "execute_result",
          "data": {
            "text/plain": [
              "   Person  Life Expectancy  unemployment days Gender\n",
              "0       1        71.870059             1005.0   Male\n",
              "1       2        63.751966              954.0   Male"
            ],
            "text/html": [
              "\n",
              "  <div id=\"df-9d263365-c33b-4c1a-933e-1330191d7eee\">\n",
              "    <div class=\"colab-df-container\">\n",
              "      <div>\n",
              "<style scoped>\n",
              "    .dataframe tbody tr th:only-of-type {\n",
              "        vertical-align: middle;\n",
              "    }\n",
              "\n",
              "    .dataframe tbody tr th {\n",
              "        vertical-align: top;\n",
              "    }\n",
              "\n",
              "    .dataframe thead th {\n",
              "        text-align: right;\n",
              "    }\n",
              "</style>\n",
              "<table border=\"1\" class=\"dataframe\">\n",
              "  <thead>\n",
              "    <tr style=\"text-align: right;\">\n",
              "      <th></th>\n",
              "      <th>Person</th>\n",
              "      <th>Life Expectancy</th>\n",
              "      <th>unemployment days</th>\n",
              "      <th>Gender</th>\n",
              "    </tr>\n",
              "  </thead>\n",
              "  <tbody>\n",
              "    <tr>\n",
              "      <th>0</th>\n",
              "      <td>1</td>\n",
              "      <td>71.870059</td>\n",
              "      <td>1005.0</td>\n",
              "      <td>Male</td>\n",
              "    </tr>\n",
              "    <tr>\n",
              "      <th>1</th>\n",
              "      <td>2</td>\n",
              "      <td>63.751966</td>\n",
              "      <td>954.0</td>\n",
              "      <td>Male</td>\n",
              "    </tr>\n",
              "  </tbody>\n",
              "</table>\n",
              "</div>\n",
              "      <button class=\"colab-df-convert\" onclick=\"convertToInteractive('df-9d263365-c33b-4c1a-933e-1330191d7eee')\"\n",
              "              title=\"Convert this dataframe to an interactive table.\"\n",
              "              style=\"display:none;\">\n",
              "        \n",
              "  <svg xmlns=\"http://www.w3.org/2000/svg\" height=\"24px\"viewBox=\"0 0 24 24\"\n",
              "       width=\"24px\">\n",
              "    <path d=\"M0 0h24v24H0V0z\" fill=\"none\"/>\n",
              "    <path d=\"M18.56 5.44l.94 2.06.94-2.06 2.06-.94-2.06-.94-.94-2.06-.94 2.06-2.06.94zm-11 1L8.5 8.5l.94-2.06 2.06-.94-2.06-.94L8.5 2.5l-.94 2.06-2.06.94zm10 10l.94 2.06.94-2.06 2.06-.94-2.06-.94-.94-2.06-.94 2.06-2.06.94z\"/><path d=\"M17.41 7.96l-1.37-1.37c-.4-.4-.92-.59-1.43-.59-.52 0-1.04.2-1.43.59L10.3 9.45l-7.72 7.72c-.78.78-.78 2.05 0 2.83L4 21.41c.39.39.9.59 1.41.59.51 0 1.02-.2 1.41-.59l7.78-7.78 2.81-2.81c.8-.78.8-2.07 0-2.86zM5.41 20L4 18.59l7.72-7.72 1.47 1.35L5.41 20z\"/>\n",
              "  </svg>\n",
              "      </button>\n",
              "      \n",
              "  <style>\n",
              "    .colab-df-container {\n",
              "      display:flex;\n",
              "      flex-wrap:wrap;\n",
              "      gap: 12px;\n",
              "    }\n",
              "\n",
              "    .colab-df-convert {\n",
              "      background-color: #E8F0FE;\n",
              "      border: none;\n",
              "      border-radius: 50%;\n",
              "      cursor: pointer;\n",
              "      display: none;\n",
              "      fill: #1967D2;\n",
              "      height: 32px;\n",
              "      padding: 0 0 0 0;\n",
              "      width: 32px;\n",
              "    }\n",
              "\n",
              "    .colab-df-convert:hover {\n",
              "      background-color: #E2EBFA;\n",
              "      box-shadow: 0px 1px 2px rgba(60, 64, 67, 0.3), 0px 1px 3px 1px rgba(60, 64, 67, 0.15);\n",
              "      fill: #174EA6;\n",
              "    }\n",
              "\n",
              "    [theme=dark] .colab-df-convert {\n",
              "      background-color: #3B4455;\n",
              "      fill: #D2E3FC;\n",
              "    }\n",
              "\n",
              "    [theme=dark] .colab-df-convert:hover {\n",
              "      background-color: #434B5C;\n",
              "      box-shadow: 0px 1px 3px 1px rgba(0, 0, 0, 0.15);\n",
              "      filter: drop-shadow(0px 1px 2px rgba(0, 0, 0, 0.3));\n",
              "      fill: #FFFFFF;\n",
              "    }\n",
              "  </style>\n",
              "\n",
              "      <script>\n",
              "        const buttonEl =\n",
              "          document.querySelector('#df-9d263365-c33b-4c1a-933e-1330191d7eee button.colab-df-convert');\n",
              "        buttonEl.style.display =\n",
              "          google.colab.kernel.accessAllowed ? 'block' : 'none';\n",
              "\n",
              "        async function convertToInteractive(key) {\n",
              "          const element = document.querySelector('#df-9d263365-c33b-4c1a-933e-1330191d7eee');\n",
              "          const dataTable =\n",
              "            await google.colab.kernel.invokeFunction('convertToInteractive',\n",
              "                                                     [key], {});\n",
              "          if (!dataTable) return;\n",
              "\n",
              "          const docLinkHtml = 'Like what you see? Visit the ' +\n",
              "            '<a target=\"_blank\" href=https://colab.research.google.com/notebooks/data_table.ipynb>data table notebook</a>'\n",
              "            + ' to learn more about interactive tables.';\n",
              "          element.innerHTML = '';\n",
              "          dataTable['output_type'] = 'display_data';\n",
              "          await google.colab.output.renderOutput(dataTable, element);\n",
              "          const docLink = document.createElement('div');\n",
              "          docLink.innerHTML = docLinkHtml;\n",
              "          element.appendChild(docLink);\n",
              "        }\n",
              "      </script>\n",
              "    </div>\n",
              "  </div>\n",
              "  "
            ]
          },
          "metadata": {},
          "execution_count": 191
        }
      ]
    },
    {
      "cell_type": "code",
      "source": [
        "df = df.dropna()\n",
        "df.info()"
      ],
      "metadata": {
        "colab": {
          "base_uri": "https://localhost:8080/"
        },
        "id": "71i_k52s6I7K",
        "outputId": "8939ad23-44a1-43bb-d3be-da1e70f95acc"
      },
      "execution_count": 192,
      "outputs": [
        {
          "output_type": "stream",
          "name": "stdout",
          "text": [
            "<class 'pandas.core.frame.DataFrame'>\n",
            "Int64Index: 47 entries, 0 to 49\n",
            "Data columns (total 4 columns):\n",
            " #   Column             Non-Null Count  Dtype  \n",
            "---  ------             --------------  -----  \n",
            " 0   Person             47 non-null     int64  \n",
            " 1   Life Expectancy    47 non-null     float64\n",
            " 2   unemployment days  47 non-null     float64\n",
            " 3   Gender             47 non-null     object \n",
            "dtypes: float64(2), int64(1), object(1)\n",
            "memory usage: 1.8+ KB\n"
          ]
        }
      ]
    },
    {
      "cell_type": "code",
      "source": [
        "df.columns = df.columns.str.replace(' ', '')\n",
        "df.columns = df.columns.str.lower()\n",
        "df.columns"
      ],
      "metadata": {
        "colab": {
          "base_uri": "https://localhost:8080/"
        },
        "id": "Kgt2VCKn6MuI",
        "outputId": "58aa2d18-408e-4b33-c669-ab7d81013a0f"
      },
      "execution_count": 193,
      "outputs": [
        {
          "output_type": "execute_result",
          "data": {
            "text/plain": [
              "Index(['person', 'lifeexpectancy', 'unemploymentdays', 'gender'], dtype='object')"
            ]
          },
          "metadata": {},
          "execution_count": 193
        }
      ]
    },
    {
      "cell_type": "code",
      "source": [
        "#lets test our data\n",
        "plt.show()            \n",
        "pg.qqplot(df['unemploymentdays']).set_title('OUR DATA')\n"
      ],
      "metadata": {
        "colab": {
          "base_uri": "https://localhost:8080/",
          "height": 312
        },
        "id": "EgiOvOQq6SXD",
        "outputId": "3291a77d-dda3-4f0a-dd1a-2e1cee78e911"
      },
      "execution_count": 194,
      "outputs": [
        {
          "output_type": "execute_result",
          "data": {
            "text/plain": [
              "Text(0.5, 1.0, 'OUR DATA')"
            ]
          },
          "metadata": {},
          "execution_count": 194
        },
        {
          "output_type": "display_data",
          "data": {
            "text/plain": [
              "<Figure size 432x288 with 1 Axes>"
            ],
            "image/png": "[encoded data removed]"
          },
          "metadata": {
            "needs_background": "light"
          }
        }
      ]
    },
    {
      "cell_type": "code",
      "source": [
        "print(stats.normaltest(df['unemploymentdays']))"
      ],
      "metadata": {
        "colab": {
          "base_uri": "https://localhost:8080/"
        },
        "id": "yI_U5hJc7GW0",
        "outputId": "36244a06-b2e8-465b-bba8-eb1c2173f99b"
      },
      "execution_count": 195,
      "outputs": [
        {
          "output_type": "stream",
          "name": "stdout",
          "text": [
            "NormaltestResult(statistic=4.495185321403004, pvalue=0.10565326191154607)\n"
          ]
        }
      ]
    },
    {
      "cell_type": "code",
      "source": [
        "df= df.sample(15)\n",
        "df.head()"
      ],
      "metadata": {
        "colab": {
          "base_uri": "https://localhost:8080/",
          "height": 206
        },
        "id": "OHK2NEHP6VtN",
        "outputId": "0447d871-026c-4616-9ad1-3bd34a87eed6"
      },
      "execution_count": 196,
      "outputs": [
        {
          "output_type": "execute_result",
          "data": {
            "text/plain": [
              "    person  lifeexpectancy  unemploymentdays  gender\n",
              "38      39       75.473568            1007.0    Male\n",
              "42      43       67.395675            1006.0  Female\n",
              "5        6       81.726367            1019.0  Female\n",
              "12      13       58.082074            1019.0    Male\n",
              "36      37       48.781831             990.0  Female"
            ],
            "text/html": [
              "\n",
              "  <div id=\"df-929121ce-cd49-4467-9314-eb3f4436e414\">\n",
              "    <div class=\"colab-df-container\">\n",
              "      <div>\n",
              "<style scoped>\n",
              "    .dataframe tbody tr th:only-of-type {\n",
              "        vertical-align: middle;\n",
              "    }\n",
              "\n",
              "    .dataframe tbody tr th {\n",
              "        vertical-align: top;\n",
              "    }\n",
              "\n",
              "    .dataframe thead th {\n",
              "        text-align: right;\n",
              "    }\n",
              "</style>\n",
              "<table border=\"1\" class=\"dataframe\">\n",
              "  <thead>\n",
              "    <tr style=\"text-align: right;\">\n",
              "      <th></th>\n",
              "      <th>person</th>\n",
              "      <th>lifeexpectancy</th>\n",
              "      <th>unemploymentdays</th>\n",
              "      <th>gender</th>\n",
              "    </tr>\n",
              "  </thead>\n",
              "  <tbody>\n",
              "    <tr>\n",
              "      <th>38</th>\n",
              "      <td>39</td>\n",
              "      <td>75.473568</td>\n",
              "      <td>1007.0</td>\n",
              "      <td>Male</td>\n",
              "    </tr>\n",
              "    <tr>\n",
              "      <th>42</th>\n",
              "      <td>43</td>\n",
              "      <td>67.395675</td>\n",
              "      <td>1006.0</td>\n",
              "      <td>Female</td>\n",
              "    </tr>\n",
              "    <tr>\n",
              "      <th>5</th>\n",
              "      <td>6</td>\n",
              "      <td>81.726367</td>\n",
              "      <td>1019.0</td>\n",
              "      <td>Female</td>\n",
              "    </tr>\n",
              "    <tr>\n",
              "      <th>12</th>\n",
              "      <td>13</td>\n",
              "      <td>58.082074</td>\n",
              "      <td>1019.0</td>\n",
              "      <td>Male</td>\n",
              "    </tr>\n",
              "    <tr>\n",
              "      <th>36</th>\n",
              "      <td>37</td>\n",
              "      <td>48.781831</td>\n",
              "      <td>990.0</td>\n",
              "      <td>Female</td>\n",
              "    </tr>\n",
              "  </tbody>\n",
              "</table>\n",
              "</div>\n",
              "      <button class=\"colab-df-convert\" onclick=\"convertToInteractive('df-929121ce-cd49-4467-9314-eb3f4436e414')\"\n",
              "              title=\"Convert this dataframe to an interactive table.\"\n",
              "              style=\"display:none;\">\n",
              "        \n",
              "  <svg xmlns=\"http://www.w3.org/2000/svg\" height=\"24px\"viewBox=\"0 0 24 24\"\n",
              "       width=\"24px\">\n",
              "    <path d=\"M0 0h24v24H0V0z\" fill=\"none\"/>\n",
              "    <path d=\"M18.56 5.44l.94 2.06.94-2.06 2.06-.94-2.06-.94-.94-2.06-.94 2.06-2.06.94zm-11 1L8.5 8.5l.94-2.06 2.06-.94-2.06-.94L8.5 2.5l-.94 2.06-2.06.94zm10 10l.94 2.06.94-2.06 2.06-.94-2.06-.94-.94-2.06-.94 2.06-2.06.94z\"/><path d=\"M17.41 7.96l-1.37-1.37c-.4-.4-.92-.59-1.43-.59-.52 0-1.04.2-1.43.59L10.3 9.45l-7.72 7.72c-.78.78-.78 2.05 0 2.83L4 21.41c.39.39.9.59 1.41.59.51 0 1.02-.2 1.41-.59l7.78-7.78 2.81-2.81c.8-.78.8-2.07 0-2.86zM5.41 20L4 18.59l7.72-7.72 1.47 1.35L5.41 20z\"/>\n",
              "  </svg>\n",
              "      </button>\n",
              "      \n",
              "  <style>\n",
              "    .colab-df-container {\n",
              "      display:flex;\n",
              "      flex-wrap:wrap;\n",
              "      gap: 12px;\n",
              "    }\n",
              "\n",
              "    .colab-df-convert {\n",
              "      background-color: #E8F0FE;\n",
              "      border: none;\n",
              "      border-radius: 50%;\n",
              "      cursor: pointer;\n",
              "      display: none;\n",
              "      fill: #1967D2;\n",
              "      height: 32px;\n",
              "      padding: 0 0 0 0;\n",
              "      width: 32px;\n",
              "    }\n",
              "\n",
              "    .colab-df-convert:hover {\n",
              "      background-color: #E2EBFA;\n",
              "      box-shadow: 0px 1px 2px rgba(60, 64, 67, 0.3), 0px 1px 3px 1px rgba(60, 64, 67, 0.15);\n",
              "      fill: #174EA6;\n",
              "    }\n",
              "\n",
              "    [theme=dark] .colab-df-convert {\n",
              "      background-color: #3B4455;\n",
              "      fill: #D2E3FC;\n",
              "    }\n",
              "\n",
              "    [theme=dark] .colab-df-convert:hover {\n",
              "      background-color: #434B5C;\n",
              "      box-shadow: 0px 1px 3px 1px rgba(0, 0, 0, 0.15);\n",
              "      filter: drop-shadow(0px 1px 2px rgba(0, 0, 0, 0.3));\n",
              "      fill: #FFFFFF;\n",
              "    }\n",
              "  </style>\n",
              "\n",
              "      <script>\n",
              "        const buttonEl =\n",
              "          document.querySelector('#df-929121ce-cd49-4467-9314-eb3f4436e414 button.colab-df-convert');\n",
              "        buttonEl.style.display =\n",
              "          google.colab.kernel.accessAllowed ? 'block' : 'none';\n",
              "\n",
              "        async function convertToInteractive(key) {\n",
              "          const element = document.querySelector('#df-929121ce-cd49-4467-9314-eb3f4436e414');\n",
              "          const dataTable =\n",
              "            await google.colab.kernel.invokeFunction('convertToInteractive',\n",
              "                                                     [key], {});\n",
              "          if (!dataTable) return;\n",
              "\n",
              "          const docLinkHtml = 'Like what you see? Visit the ' +\n",
              "            '<a target=\"_blank\" href=https://colab.research.google.com/notebooks/data_table.ipynb>data table notebook</a>'\n",
              "            + ' to learn more about interactive tables.';\n",
              "          element.innerHTML = '';\n",
              "          dataTable['output_type'] = 'display_data';\n",
              "          await google.colab.output.renderOutput(dataTable, element);\n",
              "          const docLink = document.createElement('div');\n",
              "          docLink.innerHTML = docLinkHtml;\n",
              "          element.appendChild(docLink);\n",
              "        }\n",
              "      </script>\n",
              "    </div>\n",
              "  </div>\n",
              "  "
            ]
          },
          "metadata": {},
          "execution_count": 196
        }
      ]
    },
    {
      "cell_type": "code",
      "source": [
        "stats.ttest_1samp(df['unemploymentdays'],1000)"
      ],
      "metadata": {
        "colab": {
          "base_uri": "https://localhost:8080/"
        },
        "id": "4hSXTZBo6YTr",
        "outputId": "9c94fff6-c4cc-4a19-9940-949794a88dae"
      },
      "execution_count": 199,
      "outputs": [
        {
          "output_type": "execute_result",
          "data": {
            "text/plain": [
              "TtestResult(statistic=0.028128787124306817, pvalue=0.977956476897588, df=14)"
            ]
          },
          "metadata": {},
          "execution_count": 199
        }
      ]
    },
    {
      "cell_type": "code",
      "source": [
        "T,P = stats.ttest_1samp(df['unemploymentdays'],1000)\n",
        "T,P"
      ],
      "metadata": {
        "id": "F3aFgB4S6fSK"
      },
      "execution_count": null,
      "outputs": []
    },
    {
      "cell_type": "code",
      "source": [
        "if P < 0.05:\n",
        "  print(\"Reject Null Hypothesis i.e. actual mean is NOT 1000 days \")\n",
        "else:\n",
        "  print(\"Accept Null Hypothesis i.e. actual mean is 1000 days \")"
      ],
      "metadata": {
        "colab": {
          "base_uri": "https://localhost:8080/"
        },
        "id": "iyV-gZLS6kXr",
        "outputId": "e3d43fc4-4a9a-44e1-eab4-c12115ca84ed"
      },
      "execution_count": 200,
      "outputs": [
        {
          "output_type": "stream",
          "name": "stdout",
          "text": [
            "Accept Null Hypothesis i.e. actual mean is 1000 days \n"
          ]
        }
      ]
    },
    {
      "cell_type": "code",
      "source": [
        "CI= stats.ttest_1samp(df['unemploymentdays'],1000).confidence_interval(confidence_level=0.95)\n",
        "CI"
      ],
      "metadata": {
        "colab": {
          "base_uri": "https://localhost:8080/"
        },
        "id": "C6J-9xBJ6nfI",
        "outputId": "c62150c2-c2a8-4c2a-b8ed-2f5cf1f622e9"
      },
      "execution_count": 201,
      "outputs": [
        {
          "output_type": "execute_result",
          "data": {
            "text/plain": [
              "ConfidenceInterval(low=984.9502369836341, high=1015.449763016366)"
            ]
          },
          "metadata": {},
          "execution_count": 201
        }
      ]
    }
  ]
}