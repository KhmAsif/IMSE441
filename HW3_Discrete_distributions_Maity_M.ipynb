{
  "nbformat": 4,
  "nbformat_minor": 0,
  "metadata": {
    "colab": {
      "provenance": [],
      "authorship_tag": "ABX9TyPeV2mSFS0x++z5bvBJdmZy",
      "include_colab_link": true
    },
    "kernelspec": {
      "name": "python3",
      "display_name": "Python 3"
    },
    "language_info": {
      "name": "python"
    }
  },
  "cells": [
    {
      "cell_type": "markdown",
      "metadata": {
        "id": "view-in-github",
        "colab_type": "text"
      },
      "source": [
        "<a href=\"https://colab.research.google.com/github/KhmAsif/IMSE441/blob/main/HW3_Discrete_distributions_Maity_M.ipynb\" target=\"_parent\"><img src=\"https://colab.research.google.com/assets/colab-badge.svg\" alt=\"Open In Colab\"/></a>"
      ]
    },
    {
      "cell_type": "code",
      "execution_count": 1,
      "metadata": {
        "id": "8YFmEWAXlV23"
      },
      "outputs": [],
      "source": [
        "import numpy as np\n",
        "import matplotlib.pyplot as plt\n",
        "from scipy.stats import randint \n",
        "from scipy.stats import binom"
      ]
    },
    {
      "cell_type": "markdown",
      "source": [
        "**Uniform_Data**"
      ],
      "metadata": {
        "id": "36y2jistl3yi"
      }
    },
    {
      "cell_type": "code",
      "source": [
        "data_U = np.random.uniform(0,7,20)\n",
        "data_U"
      ],
      "metadata": {
        "colab": {
          "base_uri": "https://localhost:8080/"
        },
        "id": "lYQdHcyyl2Ed",
        "outputId": "84598171-2a8a-4432-f05f-1f32ee792d71"
      },
      "execution_count": 2,
      "outputs": [
        {
          "output_type": "execute_result",
          "data": {
            "text/plain": [
              "array([5.245853  , 0.4715227 , 4.82715906, 0.57936622, 5.68131625,\n",
              "       4.99765987, 0.68742859, 5.70436597, 5.48263993, 0.23159339,\n",
              "       6.26294838, 6.9372231 , 3.20218809, 1.46804608, 6.98243044,\n",
              "       6.95352889, 3.01235851, 4.64304351, 1.98879959, 1.07270103])"
            ]
          },
          "metadata": {},
          "execution_count": 2
        }
      ]
    },
    {
      "cell_type": "markdown",
      "source": [
        "**Binomial_Data**"
      ],
      "metadata": {
        "id": "9VyVi9eRnVCd"
      }
    },
    {
      "cell_type": "code",
      "source": [
        "n, p = 10, .5  # number of trials, probability of each trial\n",
        "data_B = np.random.binomial(n, p, 20)\n",
        "data_B"
      ],
      "metadata": {
        "colab": {
          "base_uri": "https://localhost:8080/"
        },
        "id": "-E4vFM1gmHPv",
        "outputId": "ccedf647-c7ce-4623-845a-6102a90bd39d"
      },
      "execution_count": 6,
      "outputs": [
        {
          "output_type": "execute_result",
          "data": {
            "text/plain": [
              "array([5, 3, 6, 7, 4, 4, 5, 5, 7, 3, 2, 3, 3, 3, 7, 7, 4, 4, 5, 5])"
            ]
          },
          "metadata": {},
          "execution_count": 6
        }
      ]
    },
    {
      "cell_type": "code",
      "source": [
        "#PMF_uni"
      ],
      "metadata": {
        "id": "7anANgPWnbd7"
      },
      "execution_count": null,
      "outputs": []
    },
    {
      "cell_type": "code",
      "source": [
        "#CDF_uni"
      ],
      "metadata": {
        "id": "FwBCIl6wndzh"
      },
      "execution_count": null,
      "outputs": []
    },
    {
      "cell_type": "code",
      "source": [
        "#Mean and var"
      ],
      "metadata": {
        "id": "T7vs6_spn3P-"
      },
      "execution_count": null,
      "outputs": []
    },
    {
      "cell_type": "code",
      "source": [
        "#Plot_uni"
      ],
      "metadata": {
        "id": "Z6_eCcB7ndoF"
      },
      "execution_count": null,
      "outputs": []
    },
    {
      "cell_type": "code",
      "source": [
        "#repeat for binomial"
      ],
      "metadata": {
        "id": "HUlCxYnlnde2"
      },
      "execution_count": null,
      "outputs": []
    },
    {
      "cell_type": "code",
      "source": [],
      "metadata": {
        "id": "KAiLrmdHndSb"
      },
      "execution_count": null,
      "outputs": []
    }
  ]
}