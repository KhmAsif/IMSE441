{
  "nbformat": 4,
  "nbformat_minor": 0,
  "metadata": {
    "colab": {
      "provenance": [],
      "authorship_tag": "ABX9TyNa+bbelOekULIcG0+Wtnpg",
      "include_colab_link": true
    },
    "kernelspec": {
      "name": "python3",
      "display_name": "Python 3"
    },
    "language_info": {
      "name": "python"
    }
  },
  "cells": [
    {
      "cell_type": "markdown",
      "metadata": {
        "id": "view-in-github",
        "colab_type": "text"
      },
      "source": [
        "<a href=\"https://colab.research.google.com/github/KhmAsif/IMSE441/blob/main/Lab_6_Confidence_Interval.ipynb\" target=\"_parent\"><img src=\"https://colab.research.google.com/assets/colab-badge.svg\" alt=\"Open In Colab\"/></a>"
      ]
    },
    {
      "cell_type": "markdown",
      "source": [
        "### **One sample z-test and t-test**\n",
        "\n",
        ">Hypothesis testing is a statistical method to determine if there is enough evidence to support/reject a hypothesis about a population parameter\n",
        "There are 2 types of hypotheses we will use.\n",
        "\n",
        "- **Null Hypothesis H<sub>0</sub>** and **Alternate Hypothesis H<sub>a</sub>**\n",
        "\n",
        "These statements are dependent on the nature of research question (like what do we want?). \n",
        ">Choose a significance level α (common values are 0.05, 0.01), z-test gives an output **[z-Statistic, p-value]** and t-test outputs **[t-statistic, pvalue]**.\n",
        " - If p-value is < α, reject H<sub>0</sub> OR accept H<sub>a</sub>\n",
        " - If p-value is >= α, fail to reject H<sub>0</sub> OR reject H<sub>a</sub>\n",
        "\n",
        "\n"
      ],
      "metadata": {
        "id": "LmQwpsRCr0pX"
      }
    },
    {
      "cell_type": "code",
      "source": [
        "#import packages"
      ],
      "metadata": {
        "id": "lzkjIq54r4a3"
      },
      "execution_count": null,
      "outputs": []
    },
    {
      "cell_type": "markdown",
      "source": [
        "**Question**: Suppose an analyst wants to know if the mean life expectancy of a certain group of people was equal to 80 years. She collected a random sample from a database of 50 people and recorded the age at which they expired. Conduct a one sample t-test to determine if the mean age for this group of people was actually equal to 80 years and construct a 95% CI for the mean.\n",
        "\n",
        "- Whats the research question? what do we want?\n",
        "  - to see if population mean is 80, so H<sub>0</sub>: sample mean = popmean = 80\n",
        "- Whats the value of alpha?\n",
        "  - 0.05"
      ],
      "metadata": {
        "id": "6fgS5fM0sNUd"
      }
    },
    {
      "cell_type": "code",
      "source": [
        "#import dataset"
      ],
      "metadata": {
        "id": "_h_DfbRSsMh8"
      },
      "execution_count": 3,
      "outputs": []
    },
    {
      "cell_type": "code",
      "source": [
        "#What is the degree of freedom?"
      ],
      "metadata": {
        "id": "aFtFaOWUsRg6"
      },
      "execution_count": 2,
      "outputs": []
    },
    {
      "cell_type": "code",
      "source": [],
      "metadata": {
        "id": "Gih8h5PgsYvX"
      },
      "execution_count": null,
      "outputs": []
    },
    {
      "cell_type": "markdown",
      "source": [
        "> 1. A Q-Q plot, short for “quantile-quantile” plot, is used to assess whether or not a set of data potentially came from some theoretical distribution (in most cases normal distribution)\n",
        "- If the data is normally distributed, the points in a Q-Q plot will lie on a straight diagonal line\n",
        "\n",
        ">2. Hypothesis testing where, null hypothesis: x comes from a normal distribution. If p >= alpha, fail to reject H<sub>0</sub> Or accept H<sub>0</sub>"
      ],
      "metadata": {
        "id": "S0VAJUg-sfnA"
      }
    },
    {
      "cell_type": "code",
      "source": [],
      "metadata": {
        "id": "FKzI03ubsguv"
      },
      "execution_count": null,
      "outputs": []
    }
  ]
}