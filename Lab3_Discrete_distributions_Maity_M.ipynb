{
  "nbformat": 4,
  "nbformat_minor": 0,
  "metadata": {
    "colab": {
      "provenance": [],
      "authorship_tag": "ABX9TyP1+hhFK4hwbUUBr84R+oWN",
      "include_colab_link": true
    },
    "kernelspec": {
      "name": "python3",
      "display_name": "Python 3"
    },
    "language_info": {
      "name": "python"
    }
  },
  "cells": [
    {
      "cell_type": "markdown",
      "metadata": {
        "id": "view-in-github",
        "colab_type": "text"
      },
      "source": [
        "<a href=\"https://colab.research.google.com/github/KhmAsif/IMSE441/blob/main/Lab3_Discrete_distributions_Maity_M.ipynb\" target=\"_parent\"><img src=\"https://colab.research.google.com/assets/colab-badge.svg\" alt=\"Open In Colab\"/></a>"
      ]
    },
    {
      "cell_type": "code",
      "execution_count": 6,
      "metadata": {
        "id": "HaIJCofb4nwE"
      },
      "outputs": [],
      "source": [
        "import numpy as np\n",
        "import matplotlib.pyplot as plt"
      ]
    },
    {
      "cell_type": "markdown",
      "source": [
        "### Markdown benefits \n",
        "Text cells are formatted using a simple markup language called Markdown.\n",
        "1. provide sections \n",
        "2. headings of code snippets ((Headings like import data, clean data, analyze data...)\n",
        "3. increase clarity of what you are doing\n",
        "**https://colab.research.google.com/notebooks/markdown_guide.ipynb**\n",
        "\n",
        "### Scipy package\n",
        "\n",
        "> open-source Python library used for scientific computing and technical computing.\n",
        "\n",
        "> contains various functions for statistical calculations and tests"
      ],
      "metadata": {
        "id": "7Uy7GuhHGCgz"
      }
    },
    {
      "cell_type": "code",
      "source": [
        "from scipy.stats import randint \n",
        "#!pip install scipy OR pip install scipy"
      ],
      "metadata": {
        "id": "5auVqCTeLSr9"
      },
      "execution_count": 4,
      "outputs": []
    },
    {
      "cell_type": "markdown",
      "source": [
        "## **Discrete Uniform Distribution**\n",
        "### Example: Rolling of a dice"
      ],
      "metadata": {
        "id": "I9QCWobiTu9N"
      }
    },
    {
      "cell_type": "markdown",
      "source": [
        "**Create Data**\n"
      ],
      "metadata": {
        "id": "kkycS9vBPIbd"
      }
    },
    {
      "cell_type": "code",
      "source": [
        "L=1\n",
        "U=6\n",
        "\n",
        "X = np.arange(L, U+1)\n",
        "\n",
        "print(X)"
      ],
      "metadata": {
        "colab": {
          "base_uri": "https://localhost:8080/"
        },
        "id": "HBEAnJz5N3bG",
        "outputId": "a627e150-bb18-4d1d-c99c-bd6bc939cc9d"
      },
      "execution_count": 14,
      "outputs": [
        {
          "output_type": "stream",
          "name": "stdout",
          "text": [
            "[1 2 3 4 5 6]\n"
          ]
        }
      ]
    },
    {
      "cell_type": "markdown",
      "source": [
        "**PMF**"
      ],
      "metadata": {
        "id": "iUCgYptAT592"
      }
    },
    {
      "cell_type": "code",
      "source": [
        "D_uni_dist = randint(L, U+1)\n",
        "D_uni_pmf = D_uni_dist.pmf(X)\n",
        "\n",
        "print(D_uni_pmf)"
      ],
      "metadata": {
        "colab": {
          "base_uri": "https://localhost:8080/"
        },
        "id": "q6MRdQSUOJ0H",
        "outputId": "3ad385cd-7f45-4708-d0a7-eedcef27da9b"
      },
      "execution_count": 15,
      "outputs": [
        {
          "output_type": "stream",
          "name": "stdout",
          "text": [
            "[0.16666667 0.16666667 0.16666667 0.16666667 0.16666667 0.16666667]\n"
          ]
        }
      ]
    },
    {
      "cell_type": "markdown",
      "source": [
        "**Plot Discrete Uniform Distribution**"
      ],
      "metadata": {
        "id": "KI1FczqET_Ka"
      }
    },
    {
      "cell_type": "code",
      "source": [
        "plt.plot(X, D_uni_pmf,'bo', ms=8)\n",
        "plt.vlines(X, 0, D_uni_pmf, colors='b', lw=5, alpha=0.5)\n",
        "plt.xlabel('X')\n",
        "plt.ylabel('Probability')\n",
        "plt.show()"
      ],
      "metadata": {
        "colab": {
          "base_uri": "https://localhost:8080/",
          "height": 283
        },
        "id": "XbOJMdKJQHQY",
        "outputId": "73c69222-43a3-4278-cb24-546ca416577e"
      },
      "execution_count": 34,
      "outputs": [
        {
          "output_type": "display_data",
          "data": {
            "text/plain": [
              "<Figure size 432x288 with 1 Axes>"
            ],
            "image/png": "[encoded data removed]"
          },
          "metadata": {
            "needs_background": "light"
          }
        }
      ]
    },
    {
      "cell_type": "code",
      "source": [
        "plt.bar(X, D_uni_pmf)\n",
        "plt.xlabel('X')\n",
        "plt.ylabel('Probability')\n",
        "plt.show()"
      ],
      "metadata": {
        "colab": {
          "base_uri": "https://localhost:8080/",
          "height": 279
        },
        "id": "bcPDbuUohVvN",
        "outputId": "5a22ae73-1004-48e7-c399-f1124749d7e0"
      },
      "execution_count": 79,
      "outputs": [
        {
          "output_type": "display_data",
          "data": {
            "text/plain": [
              "<Figure size 432x288 with 1 Axes>"
            ],
            "image/png": "[encoded data removed]"
          },
          "metadata": {
            "needs_background": "light"
          }
        }
      ]
    },
    {
      "cell_type": "markdown",
      "source": [
        "**CDF**"
      ],
      "metadata": {
        "id": "rUp2Z--JWkXV"
      }
    },
    {
      "cell_type": "code",
      "source": [
        "D_uni_cdf = D_uni_dist.cdf(X)\n",
        "\n",
        "print(D_uni_cdf)"
      ],
      "metadata": {
        "colab": {
          "base_uri": "https://localhost:8080/"
        },
        "id": "wIlXxcP-Wv2w",
        "outputId": "5bf8517e-7e3e-4a8c-a1aa-5ca3b4c47b60"
      },
      "execution_count": 42,
      "outputs": [
        {
          "output_type": "stream",
          "name": "stdout",
          "text": [
            "[0.16666667 0.33333333 0.5        0.66666667 0.83333333 1.        ]\n"
          ]
        }
      ]
    },
    {
      "cell_type": "code",
      "source": [
        "plt.plot(X, D_uni_cdf,'bo', ms=8)\n",
        "plt.xlabel('X')\n",
        "plt.ylabel('Cumulative Probability')\n",
        "plt.show()"
      ],
      "metadata": {
        "colab": {
          "base_uri": "https://localhost:8080/",
          "height": 279
        },
        "id": "lmq9oHeFWjBh",
        "outputId": "83dfae42-b5ef-42a6-f1c1-75e7fbfd5d0f"
      },
      "execution_count": 81,
      "outputs": [
        {
          "output_type": "display_data",
          "data": {
            "text/plain": [
              "<Figure size 432x288 with 1 Axes>"
            ],
            "image/png": "[encoded data removed]"
          },
          "metadata": {
            "needs_background": "light"
          }
        }
      ]
    },
    {
      "cell_type": "code",
      "source": [
        "ProbX_less_3 = D_uni_dist.cdf(3)\n",
        "print(\"Probability of P(x<=3): \",ProbX_less_3)"
      ],
      "metadata": {
        "colab": {
          "base_uri": "https://localhost:8080/"
        },
        "id": "2zGDvQvVXZgI",
        "outputId": "c35159bd-a7e3-48dd-bf68-f678417c5eb1"
      },
      "execution_count": 44,
      "outputs": [
        {
          "output_type": "stream",
          "name": "stdout",
          "text": [
            "Probability of P(x<=3):  0.5\n"
          ]
        }
      ]
    },
    {
      "cell_type": "markdown",
      "source": [
        "**Mean, Var**"
      ],
      "metadata": {
        "id": "KM7Qmt4zbdTW"
      }
    },
    {
      "cell_type": "code",
      "source": [
        "X.mean()"
      ],
      "metadata": {
        "colab": {
          "base_uri": "https://localhost:8080/"
        },
        "id": "F2BnsEZAaWzc",
        "outputId": "66747134-e31f-420e-c8f1-78375117288c"
      },
      "execution_count": 51,
      "outputs": [
        {
          "output_type": "execute_result",
          "data": {
            "text/plain": [
              "3.5"
            ]
          },
          "metadata": {},
          "execution_count": 51
        }
      ]
    },
    {
      "cell_type": "code",
      "source": [
        "X.var()"
      ],
      "metadata": {
        "colab": {
          "base_uri": "https://localhost:8080/"
        },
        "id": "h4Zpyjc9ainw",
        "outputId": "7a121413-d249-435c-daeb-bf169ff1acac"
      },
      "execution_count": 52,
      "outputs": [
        {
          "output_type": "execute_result",
          "data": {
            "text/plain": [
              "2.9166666666666665"
            ]
          },
          "metadata": {},
          "execution_count": 52
        }
      ]
    },
    {
      "cell_type": "code",
      "source": [
        "data = np.random.uniform(0,7,20)\n",
        "data\n",
        "#data[:5]"
      ],
      "metadata": {
        "colab": {
          "base_uri": "https://localhost:8080/"
        },
        "id": "5cXwSZeNX5S0",
        "outputId": "339f8b0a-2fb9-4aa3-b28e-6402d91064b6"
      },
      "execution_count": 47,
      "outputs": [
        {
          "output_type": "execute_result",
          "data": {
            "text/plain": [
              "array([2.8413288 , 0.34643889, 5.31548066, 4.66122251, 5.60640242,\n",
              "       1.74039947, 1.97743677, 1.56067137, 6.61944635, 0.30676236,\n",
              "       5.45686401, 5.27871464, 5.29669645, 1.65892494, 5.43259463,\n",
              "       3.48308706, 1.43704375, 3.69883017, 2.84124363, 3.690703  ])"
            ]
          },
          "metadata": {},
          "execution_count": 47
        }
      ]
    },
    {
      "cell_type": "markdown",
      "source": [
        "## **Binomial Distribution**\n",
        "### Example: Tossing a fair coin 6 times"
      ],
      "metadata": {
        "id": "70tiQkfBbiH0"
      }
    },
    {
      "cell_type": "code",
      "source": [
        "\n",
        "from scipy.stats import binom"
      ],
      "metadata": {
        "id": "Uv1PRFAWbqJ6"
      },
      "execution_count": 54,
      "outputs": []
    },
    {
      "cell_type": "markdown",
      "source": [
        "**Data**"
      ],
      "metadata": {
        "id": "Vq7x0fnmcj3_"
      }
    },
    {
      "cell_type": "code",
      "source": [
        "# setting the values of n and p\n",
        "n = 6\n",
        "p = 0.6\n",
        "# defining Success as getting a Heads\n",
        "Success = list(range(n + 1))\n",
        "print('The number of heads or success possible', Success)"
      ],
      "metadata": {
        "colab": {
          "base_uri": "https://localhost:8080/"
        },
        "id": "IxqzX5k5b4AR",
        "outputId": "61a1cef2-3b44-4eef-dc80-ffbee31062a9"
      },
      "execution_count": 83,
      "outputs": [
        {
          "output_type": "stream",
          "name": "stdout",
          "text": [
            "The number of heads or success possible [0, 1, 2, 3, 4, 5, 6]\n"
          ]
        }
      ]
    },
    {
      "cell_type": "markdown",
      "source": [
        "**PMF**"
      ],
      "metadata": {
        "id": "fS6oUMkAdC7J"
      }
    },
    {
      "cell_type": "code",
      "source": [
        "Binomial_dist_pmf = [binom.pmf(k, n, p) for k in Success ]\n",
        "print(Binomial_dist_pmf)"
      ],
      "metadata": {
        "colab": {
          "base_uri": "https://localhost:8080/"
        },
        "id": "lOu1ChuUdCG6",
        "outputId": "3a50272d-1d74-48f9-9e28-69e0cd7e9740"
      },
      "execution_count": 84,
      "outputs": [
        {
          "output_type": "stream",
          "name": "stdout",
          "text": [
            "[0.0040960000000000015, 0.03686400000000002, 0.1382400000000001, 0.2764800000000001, 0.3110400000000001, 0.1866240000000001, 0.04665599999999999]\n"
          ]
        }
      ]
    },
    {
      "cell_type": "code",
      "source": [
        "#for k in Success:\n",
        "  #Binomial_dist = [binom.pmf(k, n, p)]\n",
        "  #print(Binomial_dist_pmf)\n",
        "#print(Binomial_dist_pmf)\n"
      ],
      "metadata": {
        "id": "--lYI12ldyna"
      },
      "execution_count": 74,
      "outputs": []
    },
    {
      "cell_type": "code",
      "source": [
        "plt.bar(Success, Binomial_dist_pmf)\n",
        "plt.xlabel('Heads')\n",
        "plt.ylabel('Probability')\n",
        "plt.show()"
      ],
      "metadata": {
        "colab": {
          "base_uri": "https://localhost:8080/",
          "height": 279
        },
        "id": "1o95hX47kCB2",
        "outputId": "d73bb52d-b2a7-467f-a291-daf4cc0eb470"
      },
      "execution_count": 85,
      "outputs": [
        {
          "output_type": "display_data",
          "data": {
            "text/plain": [
              "<Figure size 432x288 with 1 Axes>"
            ],
            "image/png": "[encoded data removed]"
          },
          "metadata": {
            "needs_background": "light"
          }
        }
      ]
    },
    {
      "cell_type": "markdown",
      "source": [
        "**CDF**"
      ],
      "metadata": {
        "id": "tSAprQ-qjqXC"
      }
    },
    {
      "cell_type": "code",
      "source": [
        "Binomial_dist_cdf = [binom.cdf(k, n, p) for k in Success ]\n",
        "Binomial_dist_cdf"
      ],
      "metadata": {
        "colab": {
          "base_uri": "https://localhost:8080/"
        },
        "id": "k0DvvKiujpjh",
        "outputId": "1563c4b1-b2e5-49c2-dcb4-988c25b669df"
      },
      "execution_count": 86,
      "outputs": [
        {
          "output_type": "execute_result",
          "data": {
            "text/plain": [
              "[0.0040960000000000015,\n",
              " 0.04096000000000001,\n",
              " 0.17920000000000003,\n",
              " 0.45568000000000003,\n",
              " 0.7667200000000001,\n",
              " 0.953344,\n",
              " 1.0]"
            ]
          },
          "metadata": {},
          "execution_count": 86
        }
      ]
    },
    {
      "cell_type": "code",
      "source": [
        "plt.bar(Success, Binomial_dist_cdf)\n",
        "plt.xlabel('Heads')\n",
        "plt.ylabel('Probability')\n",
        "plt.show()"
      ],
      "metadata": {
        "colab": {
          "base_uri": "https://localhost:8080/",
          "height": 279
        },
        "id": "k3VEqG9Vkb-T",
        "outputId": "d7be7fef-cb84-4b7d-fdcd-b0d64f21033f"
      },
      "execution_count": 87,
      "outputs": [
        {
          "output_type": "display_data",
          "data": {
            "text/plain": [
              "<Figure size 432x288 with 1 Axes>"
            ],
            "image/png": "[encoded data removed]"
          },
          "metadata": {
            "needs_background": "light"
          }
        }
      ]
    },
    {
      "cell_type": "markdown",
      "source": [
        "**Mean,var**"
      ],
      "metadata": {
        "id": "LEVOGvY6et90"
      }
    },
    {
      "cell_type": "code",
      "source": [
        "mean, var = binom.stats(n, p)\n",
        "print('mean is', mean, 'and variance is', var)"
      ],
      "metadata": {
        "colab": {
          "base_uri": "https://localhost:8080/"
        },
        "id": "z5QrKyVxcirD",
        "outputId": "71752780-e1ee-48fc-e264-b4230d206203"
      },
      "execution_count": 75,
      "outputs": [
        {
          "output_type": "stream",
          "name": "stdout",
          "text": [
            "mean is 3.5999999999999996 and variance is 1.44\n"
          ]
        }
      ]
    },
    {
      "cell_type": "code",
      "source": [],
      "metadata": {
        "colab": {
          "base_uri": "https://localhost:8080/",
          "height": 279
        },
        "id": "d_7lnDQ1fkuj",
        "outputId": "31b8bb33-984d-40dc-fdbb-b6b615a508de"
      },
      "execution_count": 78,
      "outputs": [
        {
          "output_type": "display_data",
          "data": {
            "text/plain": [
              "<Figure size 432x288 with 1 Axes>"
            ],
            "image/png": "[encoded data removed]"
          },
          "metadata": {
            "needs_background": "light"
          }
        }
      ]
    }
  ]
}