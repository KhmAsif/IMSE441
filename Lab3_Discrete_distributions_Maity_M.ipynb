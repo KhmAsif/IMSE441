{
  "nbformat": 4,
  "nbformat_minor": 0,
  "metadata": {
    "colab": {
      "provenance": [],
      "authorship_tag": "ABX9TyMUoI5fSCfR6XPn3rFEiiqX",
      "include_colab_link": true
    },
    "kernelspec": {
      "name": "python3",
      "display_name": "Python 3"
    },
    "language_info": {
      "name": "python"
    }
  },
  "cells": [
    {
      "cell_type": "markdown",
      "metadata": {
        "id": "view-in-github",
        "colab_type": "text"
      },
      "source": [
        "<a href=\"https://colab.research.google.com/github/KhmAsif/IMSE441/blob/main/Lab3_Discrete_distributions_Maity_M.ipynb\" target=\"_parent\"><img src=\"https://colab.research.google.com/assets/colab-badge.svg\" alt=\"Open In Colab\"/></a>"
      ]
    },
    {
      "cell_type": "code",
      "execution_count": null,
      "metadata": {
        "id": "HaIJCofb4nwE"
      },
      "outputs": [],
      "source": [
        "import numpy as np\n",
        "import matplotlib.pyplot as plt"
      ]
    },
    {
      "cell_type": "markdown",
      "source": [
        "## Markdown benefits \n",
        "Text cells are formatted using a simple markup language called Markdown.\n",
        "1. provide sections \n",
        "2. headings of code snippets ((Headings like import data, clean data, analyze data...)\n",
        "3. increase clarity of what you are doing\n",
        "**https://colab.research.google.com/notebooks/markdown_guide.ipynb**\n",
        "\n",
        "### Scipy package\n",
        "\n",
        "> open-source Python library used for scientific computing and technical computing.\n",
        "\n",
        "> contains various functions for statistical calculations and tests"
      ],
      "metadata": {
        "id": "7Uy7GuhHGCgz"
      }
    },
    {
      "cell_type": "code",
      "source": [
        "from scipy.stats import randint \n",
        "#!pip install scipy OR pip install scipy"
      ],
      "metadata": {
        "id": "5auVqCTeLSr9"
      },
      "execution_count": null,
      "outputs": []
    },
    {
      "cell_type": "markdown",
      "source": [
        "## **Discrete Uniform Distribution**\n",
        "### Example: Rolling of a dice"
      ],
      "metadata": {
        "id": "I9QCWobiTu9N"
      }
    },
    {
      "cell_type": "markdown",
      "source": [
        "**Create Data**\n"
      ],
      "metadata": {
        "id": "kkycS9vBPIbd"
      }
    },
    {
      "cell_type": "code",
      "source": [
        "L=1\n",
        "U=6\n",
        "\n",
        "X = np.arange(L, U+1)\n",
        "\n",
        "print(X)"
      ],
      "metadata": {
        "id": "HBEAnJz5N3bG"
      },
      "execution_count": null,
      "outputs": []
    },
    {
      "cell_type": "markdown",
      "source": [
        "**PMF**"
      ],
      "metadata": {
        "id": "iUCgYptAT592"
      }
    },
    {
      "cell_type": "code",
      "source": [
        "D_uni_dist = randint(L, U+1)\n",
        "D_uni_pmf = D_uni_dist.pmf(X)\n",
        "\n",
        "#print(D_uni_pmf)\n",
        "D_uni_pmf[:5]"
      ],
      "metadata": {
        "id": "q6MRdQSUOJ0H"
      },
      "execution_count": null,
      "outputs": []
    },
    {
      "cell_type": "markdown",
      "source": [
        "**Plot Discrete Uniform Distribution**"
      ],
      "metadata": {
        "id": "KI1FczqET_Ka"
      }
    },
    {
      "cell_type": "code",
      "source": [
        "plt.plot(X, D_uni_pmf,'bo', ms=8)\n",
        "plt.vlines(X, 0, D_uni_pmf, colors='b', lw=5, alpha=0.5)\n",
        "plt.xlabel('X')\n",
        "plt.ylabel('Probability')\n",
        "plt.show()"
      ],
      "metadata": {
        "id": "XbOJMdKJQHQY"
      },
      "execution_count": null,
      "outputs": []
    },
    {
      "cell_type": "code",
      "source": [
        "plt.bar(X, D_uni_pmf)\n",
        "plt.xlabel('X')\n",
        "plt.ylabel('Probability')\n",
        "plt.show()"
      ],
      "metadata": {
        "id": "bcPDbuUohVvN"
      },
      "execution_count": null,
      "outputs": []
    },
    {
      "cell_type": "markdown",
      "source": [
        "**CDF**"
      ],
      "metadata": {
        "id": "rUp2Z--JWkXV"
      }
    },
    {
      "cell_type": "code",
      "source": [
        "D_uni_cdf = D_uni_dist.cdf(X)\n",
        "\n",
        "print(D_uni_cdf)"
      ],
      "metadata": {
        "id": "wIlXxcP-Wv2w"
      },
      "execution_count": null,
      "outputs": []
    },
    {
      "cell_type": "code",
      "source": [
        "plt.plot(X, D_uni_cdf,'bo', ms=8)\n",
        "plt.xlabel('X')\n",
        "plt.ylabel('Cumulative Probability')\n",
        "plt.show()"
      ],
      "metadata": {
        "id": "lmq9oHeFWjBh"
      },
      "execution_count": null,
      "outputs": []
    },
    {
      "cell_type": "code",
      "source": [
        "ProbX_less_3 = D_uni_dist.cdf(3)\n",
        "print(\"Probability of P(x<=3): \",ProbX_less_3)"
      ],
      "metadata": {
        "id": "2zGDvQvVXZgI"
      },
      "execution_count": null,
      "outputs": []
    },
    {
      "cell_type": "code",
      "source": [
        "ProbX_less_6 = D_uni_dist.cdf(6)\n",
        "print(\"Probability of P(x<=6): \",ProbX_less_6)"
      ],
      "metadata": {
        "id": "T-Jb8pEdCAw-"
      },
      "execution_count": null,
      "outputs": []
    },
    {
      "cell_type": "markdown",
      "source": [
        "**Mean, Var**"
      ],
      "metadata": {
        "id": "KM7Qmt4zbdTW"
      }
    },
    {
      "cell_type": "code",
      "source": [
        "X.mean()"
      ],
      "metadata": {
        "id": "F2BnsEZAaWzc"
      },
      "execution_count": null,
      "outputs": []
    },
    {
      "cell_type": "code",
      "source": [
        "X.var()"
      ],
      "metadata": {
        "id": "h4Zpyjc9ainw"
      },
      "execution_count": null,
      "outputs": []
    },
    {
      "cell_type": "code",
      "source": [
        "data = np.random.uniform(0,7,20)\n",
        "#data\n",
        "data[:5]"
      ],
      "metadata": {
        "id": "5cXwSZeNX5S0"
      },
      "execution_count": null,
      "outputs": []
    },
    {
      "cell_type": "markdown",
      "source": [
        "## **Binomial Distribution**\n",
        "### Example: Tossing a fair coin 6 times"
      ],
      "metadata": {
        "id": "70tiQkfBbiH0"
      }
    },
    {
      "cell_type": "code",
      "source": [
        "\n",
        "from scipy.stats import binom"
      ],
      "metadata": {
        "id": "Uv1PRFAWbqJ6"
      },
      "execution_count": null,
      "outputs": []
    },
    {
      "cell_type": "markdown",
      "source": [
        "**Data**"
      ],
      "metadata": {
        "id": "Vq7x0fnmcj3_"
      }
    },
    {
      "cell_type": "code",
      "source": [
        "# setting the values of n and p\n",
        "n = 6\n",
        "p = 0.5\n",
        "# defining Success as getting a Heads\n",
        "Success = list(range(n + 1))\n",
        "print('The number of heads or success possible', Success)"
      ],
      "metadata": {
        "id": "IxqzX5k5b4AR"
      },
      "execution_count": null,
      "outputs": []
    },
    {
      "cell_type": "markdown",
      "source": [
        "**PMF**"
      ],
      "metadata": {
        "id": "fS6oUMkAdC7J"
      }
    },
    {
      "cell_type": "code",
      "source": [
        "Binomial_dist_pmf = [binom.pmf(k, n, p) for k in Success ]\n",
        "print(Binomial_dist_pmf)"
      ],
      "metadata": {
        "id": "lOu1ChuUdCG6"
      },
      "execution_count": null,
      "outputs": []
    },
    {
      "cell_type": "code",
      "source": [
        "#for k in Success:\n",
        "  #Binomial_dist = [binom.pmf(k, n, p)]\n",
        "  #print(Binomial_dist_pmf)\n",
        "#print(Binomial_dist_pmf)\n"
      ],
      "metadata": {
        "id": "--lYI12ldyna"
      },
      "execution_count": null,
      "outputs": []
    },
    {
      "cell_type": "code",
      "source": [
        "plt.bar(Success, Binomial_dist_pmf)\n",
        "plt.xlabel('Heads')\n",
        "plt.ylabel('Probability')\n",
        "plt.show()"
      ],
      "metadata": {
        "id": "1o95hX47kCB2"
      },
      "execution_count": null,
      "outputs": []
    },
    {
      "cell_type": "markdown",
      "source": [
        "**CDF**"
      ],
      "metadata": {
        "id": "tSAprQ-qjqXC"
      }
    },
    {
      "cell_type": "code",
      "source": [
        "Binomial_dist_cdf = [binom.cdf(k, n, p) for k in Success ]\n",
        "Binomial_dist_cdf"
      ],
      "metadata": {
        "id": "k0DvvKiujpjh"
      },
      "execution_count": null,
      "outputs": []
    },
    {
      "cell_type": "code",
      "source": [
        "plt.bar(Success, Binomial_dist_cdf)\n",
        "plt.xlabel('Heads')\n",
        "plt.ylabel('Probability')\n",
        "plt.show()"
      ],
      "metadata": {
        "id": "k3VEqG9Vkb-T"
      },
      "execution_count": null,
      "outputs": []
    },
    {
      "cell_type": "markdown",
      "source": [
        "**Mean,var**"
      ],
      "metadata": {
        "id": "LEVOGvY6et90"
      }
    },
    {
      "cell_type": "code",
      "source": [
        "mean, var = binom.stats(n, p)\n",
        "print('mean is', mean, 'and variance is', var)"
      ],
      "metadata": {
        "id": "z5QrKyVxcirD"
      },
      "execution_count": null,
      "outputs": []
    },
    {
      "cell_type": "markdown",
      "source": [
        "## **Geometric Distribution**"
      ],
      "metadata": {
        "id": "W_nA3K34vUeN"
      }
    },
    {
      "cell_type": "code",
      "source": [
        "from scipy.stats import geom\n"
      ],
      "metadata": {
        "id": "d_7lnDQ1fkuj"
      },
      "execution_count": null,
      "outputs": []
    },
    {
      "cell_type": "markdown",
      "source": [
        "**MEAN,VAR**"
      ],
      "metadata": {
        "id": "znxHnHqUvpn5"
      }
    },
    {
      "cell_type": "code",
      "source": [
        "p = 0.5\n",
        "mean, var = geom.stats(p)\n",
        "print('mean is', mean, 'and variance is', var)"
      ],
      "metadata": {
        "colab": {
          "base_uri": "https://localhost:8080/"
        },
        "id": "wzZFQq_mq-QZ",
        "outputId": "ac0a454c-b611-4f53-8fde-d5f472a01c9b"
      },
      "execution_count": 104,
      "outputs": [
        {
          "output_type": "stream",
          "name": "stdout",
          "text": [
            "mean is 2.0 and variance is 2.0\n"
          ]
        }
      ]
    },
    {
      "cell_type": "code",
      "source": [
        "# setting the values of k and p\n",
        "k = 6\n",
        "p = 0.5\n",
        "# defining Success as getting a Heads\n",
        "trials = list(range(1,k + 1))\n",
        "print('The number of trials before 1st success possible', trials)"
      ],
      "metadata": {
        "colab": {
          "base_uri": "https://localhost:8080/"
        },
        "id": "9B7Xsbk8sxwg",
        "outputId": "45c1394c-3f2e-4c70-a63a-5079b868df38"
      },
      "execution_count": 105,
      "outputs": [
        {
          "output_type": "stream",
          "name": "stdout",
          "text": [
            "The number of trials before 1st success possible [1, 2, 3, 4, 5, 6]\n"
          ]
        }
      ]
    },
    {
      "cell_type": "markdown",
      "source": [
        "**PMF**"
      ],
      "metadata": {
        "id": "k9yX5rG1vhZ9"
      }
    },
    {
      "cell_type": "code",
      "source": [
        "geom_dist_pmf = [geom.pmf(x, p) for x in trials ]\n",
        "print(geom_dist_pmf)"
      ],
      "metadata": {
        "colab": {
          "base_uri": "https://localhost:8080/"
        },
        "id": "Nkt_RsbDtOxH",
        "outputId": "9b8ca993-3fac-4cb5-e5f1-8a45ea3b1114"
      },
      "execution_count": 106,
      "outputs": [
        {
          "output_type": "stream",
          "name": "stdout",
          "text": [
            "[0.5, 0.25, 0.125, 0.0625, 0.03125, 0.015625]\n"
          ]
        }
      ]
    },
    {
      "cell_type": "code",
      "source": [
        "plt.plot(trials, geom.pmf(trials, p), 'bo', ms=8, label='geom pmf')\n",
        "plt.vlines(trials,0, geom.pmf(trials, p), colors='b', lw=5, alpha=0.5)"
      ],
      "metadata": {
        "colab": {
          "base_uri": "https://localhost:8080/",
          "height": 282
        },
        "id": "d81UIzU7tgRB",
        "outputId": "8f89e662-1d0a-4376-91bf-aad101a2d885"
      },
      "execution_count": 107,
      "outputs": [
        {
          "output_type": "execute_result",
          "data": {
            "text/plain": [
              "<matplotlib.collections.LineCollection at 0x7f2c7e40f190>"
            ]
          },
          "metadata": {},
          "execution_count": 107
        },
        {
          "output_type": "display_data",
          "data": {
            "text/plain": [
              "<Figure size 432x288 with 1 Axes>"
            ],
            "image/png": "[encoded data removed]"
          },
          "metadata": {
            "needs_background": "light"
          }
        }
      ]
    },
    {
      "cell_type": "markdown",
      "source": [
        "**CDF**"
      ],
      "metadata": {
        "id": "R-mI9arPvlmg"
      }
    },
    {
      "cell_type": "code",
      "source": [
        "geom_dist_cdf= geom.cdf(trials, p)\n",
        "geom_dist_cdf"
      ],
      "metadata": {
        "colab": {
          "base_uri": "https://localhost:8080/"
        },
        "id": "vSVrWAocul-Z",
        "outputId": "03fbe440-0258-4ba3-b57d-5451dbd076b6"
      },
      "execution_count": 108,
      "outputs": [
        {
          "output_type": "execute_result",
          "data": {
            "text/plain": [
              "array([0.5     , 0.75    , 0.875   , 0.9375  , 0.96875 , 0.984375])"
            ]
          },
          "metadata": {},
          "execution_count": 108
        }
      ]
    },
    {
      "cell_type": "code",
      "source": [
        "plt.bar(trials, geom_dist_cdf)\n",
        "plt.xlabel('trials')\n",
        "plt.ylabel('cdf')\n",
        "plt.show()"
      ],
      "metadata": {
        "colab": {
          "base_uri": "https://localhost:8080/",
          "height": 279
        },
        "id": "r8Qe22BSrZVL",
        "outputId": "e6b54ae6-38c3-4780-aec3-8501fdaeda82"
      },
      "execution_count": 109,
      "outputs": [
        {
          "output_type": "display_data",
          "data": {
            "text/plain": [
              "<Figure size 432x288 with 1 Axes>"
            ],
            "image/png": "[encoded data removed]"
          },
          "metadata": {
            "needs_background": "light"
          }
        }
      ]
    },
    {
      "cell_type": "markdown",
      "source": [
        "## **Negetive Binomial**\n",
        "\n",
        "**Flipping a coin until 2H's are obtained**"
      ],
      "metadata": {
        "id": "9GymdBg7vume"
      }
    },
    {
      "cell_type": "code",
      "source": [
        "from scipy.stats import nbinom"
      ],
      "metadata": {
        "id": "lTg-GpSk1pq8"
      },
      "execution_count": null,
      "outputs": []
    },
    {
      "cell_type": "code",
      "source": [
        "r, p = 2, 0.5\n",
        "mean, var = nbinom.stats(r, p)\n",
        "print('mean is', mean, 'and variance is', var)"
      ],
      "metadata": {
        "colab": {
          "base_uri": "https://localhost:8080/"
        },
        "id": "ccy0x4l21vM_",
        "outputId": "7f462c9a-7c9a-4757-9d0c-c614faba0384"
      },
      "execution_count": 110,
      "outputs": [
        {
          "output_type": "stream",
          "name": "stdout",
          "text": [
            "mean is 2.0 and variance is 4.0\n"
          ]
        }
      ]
    },
    {
      "cell_type": "code",
      "source": [
        "r = 2 \n",
        "p = 0.5\n",
        "# defining Success as getting a Heads\n",
        "trials = list(range(6))\n",
        "x = list(range(2,8))\n",
        "print('The number of trials before 2 successess possible', trials)\n",
        "print('The number of times coins flipped in each trial', x)\n"
      ],
      "metadata": {
        "colab": {
          "base_uri": "https://localhost:8080/"
        },
        "id": "pVtrO87t21cW",
        "outputId": "16b46034-a2f0-4f42-c86f-6e119c3e146b"
      },
      "execution_count": 111,
      "outputs": [
        {
          "output_type": "stream",
          "name": "stdout",
          "text": [
            "The number of trials before 2 successess possible [0, 1, 2, 3, 4, 5]\n",
            "The number of times coins flipped in each trial [2, 3, 4, 5, 6, 7]\n"
          ]
        }
      ]
    },
    {
      "cell_type": "code",
      "source": [
        "nbinom_dist_pmf = [nbinom.pmf(trials, r, p) ]\n",
        "print(nbinom_dist_pmf)"
      ],
      "metadata": {
        "colab": {
          "base_uri": "https://localhost:8080/"
        },
        "id": "f-ngjscW3ri8",
        "outputId": "c3cf0724-bd91-43d6-d31c-47fec2649b70"
      },
      "execution_count": 112,
      "outputs": [
        {
          "output_type": "stream",
          "name": "stdout",
          "text": [
            "[array([0.25    , 0.25    , 0.1875  , 0.125   , 0.078125, 0.046875])]\n"
          ]
        }
      ]
    },
    {
      "cell_type": "code",
      "source": [
        "plt.plot(x, nbinom.pmf(trials,r, p), 'bo', ms=8, label='geom pmf')\n",
        "plt.vlines(x,0, nbinom.pmf(trials,r, p), colors='b', lw=5, alpha=0.5)"
      ],
      "metadata": {
        "colab": {
          "base_uri": "https://localhost:8080/",
          "height": 282
        },
        "id": "oSKgZPK74FU9",
        "outputId": "5f2ae986-e865-4ccd-acfd-9271b9076de3"
      },
      "execution_count": 113,
      "outputs": [
        {
          "output_type": "execute_result",
          "data": {
            "text/plain": [
              "<matplotlib.collections.LineCollection at 0x7f2c7e420850>"
            ]
          },
          "metadata": {},
          "execution_count": 113
        },
        {
          "output_type": "display_data",
          "data": {
            "text/plain": [
              "<Figure size 432x288 with 1 Axes>"
            ],
            "image/png": "[encoded data removed]"
          },
          "metadata": {
            "needs_background": "light"
          }
        }
      ]
    },
    {
      "cell_type": "markdown",
      "source": [
        "## **Hypergeometric**"
      ],
      "metadata": {
        "id": "2SqhHED-AljN"
      }
    },
    {
      "cell_type": "markdown",
      "source": [
        "**HW**"
      ],
      "metadata": {
        "id": "CPWZb79VKD4i"
      }
    },
    {
      "cell_type": "code",
      "source": [
        "from scipy.stats import hypergeom"
      ],
      "metadata": {
        "id": "_HIycwGqOLVK"
      },
      "execution_count": null,
      "outputs": []
    },
    {
      "cell_type": "markdown",
      "source": [
        "## **Poisson Dist**"
      ],
      "metadata": {
        "id": "Fl0EzEuCKHrn"
      }
    },
    {
      "cell_type": "code",
      "source": [
        "from scipy.stats import poisson"
      ],
      "metadata": {
        "id": "KHdney_ZAtiZ"
      },
      "execution_count": null,
      "outputs": []
    },
    {
      "cell_type": "code",
      "source": [
        "l = 0.6\n",
        "mean, var= poisson.stats(l)\n",
        "print('mean is', mean, 'and variance is', var)"
      ],
      "metadata": {
        "colab": {
          "base_uri": "https://localhost:8080/"
        },
        "id": "cxstdp7ILQs5",
        "outputId": "dac37934-0224-4d69-f64f-651a605a795b"
      },
      "execution_count": 114,
      "outputs": [
        {
          "output_type": "stream",
          "name": "stdout",
          "text": [
            "mean is 0.6 and variance is 0.6\n"
          ]
        }
      ]
    },
    {
      "cell_type": "code",
      "source": [
        "x = list(range(6))\n",
        "x"
      ],
      "metadata": {
        "colab": {
          "base_uri": "https://localhost:8080/"
        },
        "id": "KcL8jrqZMAB5",
        "outputId": "38d134b5-ca0f-4931-e91d-c69620d57497"
      },
      "execution_count": 115,
      "outputs": [
        {
          "output_type": "execute_result",
          "data": {
            "text/plain": [
              "[0, 1, 2, 3, 4, 5]"
            ]
          },
          "metadata": {},
          "execution_count": 115
        }
      ]
    },
    {
      "cell_type": "code",
      "source": [
        "poisson_dist_pmf = [poisson.pmf(x,l) ]\n",
        "print(poisson_dist_pmf)"
      ],
      "metadata": {
        "colab": {
          "base_uri": "https://localhost:8080/"
        },
        "id": "GZqXjbqzMJrt",
        "outputId": "fddd85ca-a0de-48e3-859e-1d1477905330"
      },
      "execution_count": 117,
      "outputs": [
        {
          "output_type": "stream",
          "name": "stdout",
          "text": [
            "[array([5.48811636e-01, 3.29286982e-01, 9.87860945e-02, 1.97572189e-02,\n",
            "       2.96358283e-03, 3.55629940e-04])]\n"
          ]
        }
      ]
    },
    {
      "cell_type": "code",
      "source": [
        "plt.plot(x, poisson.pmf(x,l), 'bo', ms=8, label='geom pmf')\n",
        "plt.vlines(x,0, poisson.pmf(x,l), colors='b', lw=5, alpha=0.5)"
      ],
      "metadata": {
        "colab": {
          "base_uri": "https://localhost:8080/",
          "height": 282
        },
        "id": "6Zoqg5YDMYIj",
        "outputId": "a9e11bb1-73ae-40c7-b3eb-a6ac7c42c3e9"
      },
      "execution_count": 118,
      "outputs": [
        {
          "output_type": "execute_result",
          "data": {
            "text/plain": [
              "<matplotlib.collections.LineCollection at 0x7f2c7e7ac0d0>"
            ]
          },
          "metadata": {},
          "execution_count": 118
        },
        {
          "output_type": "display_data",
          "data": {
            "text/plain": [
              "<Figure size 432x288 with 1 Axes>"
            ],
            "image/png": "[encoded data removed]"
          },
          "metadata": {
            "needs_background": "light"
          }
        }
      ]
    }
  ]
}