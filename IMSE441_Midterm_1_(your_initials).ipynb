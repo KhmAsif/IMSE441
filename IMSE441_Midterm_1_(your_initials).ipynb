{
  "nbformat": 4,
  "nbformat_minor": 0,
  "metadata": {
    "colab": {
      "provenance": [],
      "authorship_tag": "ABX9TyMI2yYpjQgYQ/A0FkNGHPFz",
      "include_colab_link": true
    },
    "kernelspec": {
      "name": "python3",
      "display_name": "Python 3"
    },
    "language_info": {
      "name": "python"
    }
  },
  "cells": [
    {
      "cell_type": "markdown",
      "metadata": {
        "id": "view-in-github",
        "colab_type": "text"
      },
      "source": [
        "<a href=\"https://colab.research.google.com/github/KhmAsif/IMSE441/blob/main/IMSE441_Midterm_1_(your_initials).ipynb\" target=\"_parent\"><img src=\"https://colab.research.google.com/assets/colab-badge.svg\" alt=\"Open In Colab\"/></a>"
      ]
    },
    {
      "cell_type": "markdown",
      "source": [
        "### **IMSE 441 MIDTERM 1**\n",
        "\n",
        "- Please rename the file as 'IMSE441_Midterm_1_(your initials)\n",
        "- Complete your exam and upload the google colab code link as a submission\n",
        "- Use whatever material you have as a reference when solving but please dont discuss with friends or simply copy without logic\n",
        "- Total exam is 100 marks, of which 30points for in class exam and 70 marks is takehome for coding\n",
        "- Of the 70 marks of coding, **5 points** will be awarded for writing the code in a well organized manner like **headings** and **# comments or interpretation of what you are doing in the code**. Make sure all graphs or pvalues have interpretation.\n",
        "\n",
        "- ***Hint:*** If sample size of dataframe is already small, i.e. <=30, you **dont** need to create a smaller dataframe to perform t-test. \n",
        "\n",
        "**ALL THE VERY BEST!**"
      ],
      "metadata": {
        "id": "tc20-ddJStAV"
      }
    },
    {
      "cell_type": "markdown",
      "source": [
        "### **Question1:** (20 points)\n",
        "a) Choose a discrete and continuous distribution of your choice, generate random samples and find their mean, variance and standard deviation. \n",
        "\n",
        "b)Plot pmf/pdf and cdf of both the distributions.\n",
        "\n",
        "c)What is the difference between pmf and pdf?"
      ],
      "metadata": {
        "id": "l2l5wdeWYR5x"
      }
    },
    {
      "cell_type": "code",
      "source": [],
      "metadata": {
        "id": "uZ-vsvUhYF8V"
      },
      "execution_count": null,
      "outputs": []
    },
    {
      "cell_type": "code",
      "source": [],
      "metadata": {
        "id": "Ar-7aW5nYMDY"
      },
      "execution_count": null,
      "outputs": []
    },
    {
      "cell_type": "code",
      "source": [],
      "metadata": {
        "id": "jS35qW5IYMcA"
      },
      "execution_count": null,
      "outputs": []
    },
    {
      "cell_type": "markdown",
      "source": [
        "### **Question2:** (30 points)\n",
        "a) Import the data \"OTT_platform_data.csv\" and perform data cleaning, descriptive statistics on the  dataset to generate clean data\n",
        "\n",
        "b) How many people watch Netflix and how many watch prime? What is the mean time spent on both the platforms. \n",
        "\n",
        "c) Plot a pie chart to answer the question: Based on the dataset do people like Netflix or prime more?\n",
        "\n",
        "d) Construct a boxplot to see variability of time data on both the platforms. From the plot, determine an approximate median value each platform"
      ],
      "metadata": {
        "id": "6cma69o-ZYQn"
      }
    },
    {
      "cell_type": "code",
      "source": [],
      "metadata": {
        "id": "pA1udu5nZXaG"
      },
      "execution_count": null,
      "outputs": []
    },
    {
      "cell_type": "code",
      "source": [],
      "metadata": {
        "id": "n8oRuLHDhhIP"
      },
      "execution_count": null,
      "outputs": []
    },
    {
      "cell_type": "code",
      "source": [],
      "metadata": {
        "id": "haoTRQeThhEv"
      },
      "execution_count": null,
      "outputs": []
    },
    {
      "cell_type": "code",
      "source": [],
      "metadata": {
        "id": "R6faiDWZhg7V"
      },
      "execution_count": null,
      "outputs": []
    },
    {
      "cell_type": "code",
      "source": [],
      "metadata": {
        "id": "T6cFdNxKhg3t"
      },
      "execution_count": null,
      "outputs": []
    },
    {
      "cell_type": "code",
      "source": [],
      "metadata": {
        "id": "Qk1rRNr_hg06"
      },
      "execution_count": null,
      "outputs": []
    },
    {
      "cell_type": "markdown",
      "source": [
        "### **Question3:** (15 points)\n",
        "a) Perform tests to check the distribution of 'Time' data in OTT_platform_data.csv before you can do t-test. Check eligibility and interpret your results.\n",
        "\n",
        "b) Does the given data satisfy the criteria for t-testing eligibility? If so,perform t-test to see if 0.83 is an acceptable mean based on 99% significance level. Then create a 99% CI on the unknown mean value of 'Time'\n",
        "\n",
        "c) Is it one sided or two sided CI?\n",
        "\n",
        "d) What is the degree of freedom value for the test?\n",
        "\n",
        "e) Calculate df['Time'].mean(), is it the actual mean or sample mean?\n",
        "\n"
      ],
      "metadata": {
        "id": "mbHfWnybhh4j"
      }
    },
    {
      "cell_type": "code",
      "source": [],
      "metadata": {
        "id": "BCMNo1BckKw0"
      },
      "execution_count": null,
      "outputs": []
    },
    {
      "cell_type": "code",
      "source": [],
      "metadata": {
        "id": "ZoC2gH2ukLyb"
      },
      "execution_count": null,
      "outputs": []
    },
    {
      "cell_type": "code",
      "source": [],
      "metadata": {
        "id": "nDv_qvMikLdQ"
      },
      "execution_count": null,
      "outputs": []
    },
    {
      "cell_type": "code",
      "source": [],
      "metadata": {
        "id": "MtG2bkMikLZ5"
      },
      "execution_count": null,
      "outputs": []
    },
    {
      "cell_type": "code",
      "source": [],
      "metadata": {
        "id": "G-p6ps4ikLXA"
      },
      "execution_count": null,
      "outputs": []
    }
  ]
}